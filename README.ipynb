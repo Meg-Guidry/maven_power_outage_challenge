{
 "cells": [
  {
   "cell_type": "markdown",
   "metadata": {},
   "source": [
    "# Data Science EDA Milestone - Megan Guidry\n",
    "For this milestone I will be cleaning and analysing the Maven Analytics \"Power Outage Challenge\" dataset. \n",
    "\n",
    "Electricity outages are a growing concern as we enter an age of unprecedented energy demand and climate disasters. This dataset contains power outage data from across the USA going back to 2002. There are quite a few issues with data quality. \n",
    "\n",
    "## Purpose of this EDA analysis\n",
    "This data exploration will focus on two features from the dataset: NERC Region and Demand Loss (MW). The North American Electric Reliability Corportion (NERC) is concerned about regional weknesses in the energy grid and want to know where to focus their energy if they want to improve energy reliability across their regional portfolio. This analysis is the first step toward understanding where the most powere outage events are happening as well as how much demand loss occers per event. \n",
    "\n",
    "## Questions:\n",
    "1. What North American Electric Reliability Corportion (NERC) regions had the most outages from 2002-2023?\n",
    "2. How much demand loss (in MW) can be expected in a typical outage event? \n",
    "3. Are there any major outliers in terms of demand loss? What are the features of these outliers?\n",
    "\n",
    "Please view the notebook titled \"Maven_Power_Outage_Challenge_Notebook\" to view my data cleaning and EDA"
   ]
  }
 ],
 "metadata": {
  "kernelspec": {
   "display_name": "Python 3",
   "language": "python",
   "name": "python3"
  },
  "language_info": {
   "codemirror_mode": {
    "name": "ipython",
    "version": 3
   },
   "file_extension": ".py",
   "mimetype": "text/x-python",
   "name": "python",
   "nbconvert_exporter": "python",
   "pygments_lexer": "ipython3",
   "version": "3.6.1"
  }
 },
 "nbformat": 4,
 "nbformat_minor": 2
}
