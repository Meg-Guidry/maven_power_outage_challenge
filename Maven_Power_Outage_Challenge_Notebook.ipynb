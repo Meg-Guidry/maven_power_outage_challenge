{
 "cells": [
  {
   "cell_type": "markdown",
   "metadata": {},
   "source": [
    "# Maven Power Outage Challenge - Exploratory Data Analysis"
   ]
  },
  {
   "cell_type": "markdown",
   "metadata": {},
   "source": [
    "For this milestone I will be cleaning and analysing the Maven Analytics \"Power Outage Challenge\" dataset. \n",
    "\n",
    "Electricity outages are a growing concern as we enter an age of unprecedented energy demand and climate disasters. This dataset contains power outage data from across the USA going back to 2002. There are quite a few issues with data quality. "
   ]
  },
  {
   "cell_type": "markdown",
   "metadata": {},
   "source": [
    "## Step 0. Understanding the data"
   ]
  },
  {
   "cell_type": "code",
   "execution_count": null,
   "metadata": {
    "collapsed": true
   },
   "outputs": [],
   "source": [
    "import pandas as pd\n",
    "import numpy as np\n",
    "import matplotlib.pyplot as plt\n",
    "import seaborn as sns\n",
    "import folium \n",
    "import openpyxl"
   ]
  },
  {
   "cell_type": "code",
   "execution_count": null,
   "metadata": {
    "collapsed": true
   },
   "outputs": [],
   "source": [
    "# Define the sheet names in a list so that we can easily iterate through the excel sheets (tabs). \n",
    "# Each sheet contains power outage event data for a single year between 2002 and 2023\n",
    "\n",
    "sheet_names = [str(n) for n in range(2002, 2024, 1)]"
   ]
  },
  {
   "cell_type": "code",
   "execution_count": null,
   "metadata": {
    "collapsed": true
   },
   "outputs": [],
   "source": [
    "# Creating a dictionary of pandas dataframes, one dataframe per excel sheet. \n",
    "# this will allow us to tailor our data cleaning to the individual sheet since the format of the sheet changes over the years.\n",
    "\n",
    "DF_dict = {}\n",
    "\n",
    "for sheet in sheet_names:\n",
    "    if sheet in [\"2002\", \"2008\"]:\n",
    "        header_value = 2\n",
    "    else:\n",
    "        header_value = 1\n",
    "    \n",
    "    DF_dict[\"{0}\".format(sheet)] = pd.read_excel('DOE_Electric_Disturbance_Events.xlsx', \n",
    "                                                 engine='openpyxl', \n",
    "                                                 header=header_value, \n",
    "                                                 sheet_name=sheet)"
   ]
  },
  {
   "cell_type": "code",
   "execution_count": null,
   "metadata": {
    "collapsed": true
   },
   "outputs": [],
   "source": [
    "# We will not use this right now, but the dictionary starting_shapes will help us to \n",
    "# understand the data better as we are cleaning\n",
    "\n",
    "starting_shapes = {}\n",
    "for sheet in sheet_names:\n",
    "    starting_shapes[sheet + \"_startshape\"] = DF_dict[str(sheet)].shape"
   ]
  },
  {
   "cell_type": "code",
   "execution_count": null,
   "metadata": {
    "scrolled": false
   },
   "outputs": [],
   "source": [
    "# Now lets check out one of the dataframes to see if we get the data we expect:\n",
    "DF_dict[\"2008\"].head()"
   ]
  },
  {
   "cell_type": "markdown",
   "metadata": {},
   "source": [
    "The data above is what I expect, however it is very messy! Generally I will need to:\n",
    "- Make sure columns in each dataframe match (i.e. contain the same feature information)\n",
    "- Check data within the columns to ensure quality\n",
    "- Concatenate the source dataframes to create a single dataframe\n",
    "- Pre-process the data to address inconsistencies before EDA"
   ]
  },
  {
   "cell_type": "code",
   "execution_count": null,
   "metadata": {
    "scrolled": true
   },
   "outputs": [],
   "source": [
    "# Now lets explore how the column names vary between dataframes. Each row shows the column titles:\n",
    "\n",
    "column_title_dictionary = {\"{0}\".format(sheet):DF_dict[\"{0}\".format(sheet)].columns.tolist() for sheet in sheet_names}\n",
    "column_title_df = pd.DataFrame.from_dict(column_title_dictionary, orient='index') #use the orient argument to make the keys of the dictionary equivalent to the index values of the dataframe\n",
    "column_title_df"
   ]
  },
  {
   "cell_type": "markdown",
   "metadata": {},
   "source": [
    "### The target column names\n",
    "\n",
    "From the dataframe above, we can see that the columns titles make a significant change two times between 2002 - 2023. \n",
    "\n",
    "I will approach the data cleaning process slightly differently for each of the three periods: 2002-2010, 2011-2014, 2015-2023\n",
    "\n",
    "Here are the column names that I will have in the cleaned and concatenated dataframe:\n",
    "1. \"datetime_event_began\", \n",
    "2. \"NERC_region\", \n",
    "3. \"area_affected\", \n",
    "4. \"event_type\", \n",
    "5. \"demand_loss_(MW)\", \n",
    "6. \"number_of_customers_affected\", \n",
    "7. \"datetime_of_restoration\""
   ]
  },
  {
   "cell_type": "code",
   "execution_count": null,
   "metadata": {
    "collapsed": true
   },
   "outputs": [],
   "source": [
    "post_cleaning_column_titles = [\"datetime_event_began\", \n",
    "                               \"NERC_region\", \n",
    "                               \"area_affected\", \n",
    "                               \"event_type\", \n",
    "                               \"demand_loss_(MW)\", \n",
    "                               \"number_of_customers_affected\", \n",
    "                               \"datetime_of_restoration\"]"
   ]
  },
  {
   "cell_type": "markdown",
   "metadata": {},
   "source": [
    "## Step 1. Cleaning the data"
   ]
  },
  {
   "cell_type": "markdown",
   "metadata": {},
   "source": [
    "### Cleaning dataframes from the years 2002 - 2010:"
   ]
  },
  {
   "cell_type": "code",
   "execution_count": null,
   "metadata": {
    "collapsed": true
   },
   "outputs": [],
   "source": [
    "# Lets create a function that takes a dataframe, iterates through the rows, and checkes that the \"Date\" column to a \n",
    "# datetime datatype. otherwise it drops the row because this indicates the row is an unexpected format and in this instance \n",
    "# most likely a human readable marker.\n",
    "\n",
    "from datetime import datetime\n",
    "\n",
    "def drop_non_datetime_values(dataframe_name, column_name):\n",
    "    for ind, row in dataframe_name.iterrows():\n",
    "        if type(dataframe_name[column_name][ind]) == datetime:\n",
    "            pass\n",
    "        else:\n",
    "            # print(dataframe_name[column_name][ind]) # I have decided to print out the dropped data to make sure I am not dropping anyting unexpected. \n",
    "            dataframe_name.drop(axis=0, index=ind, inplace=True)\n",
    "    return dataframe_name\n",
    "           "
   ]
  },
  {
   "cell_type": "code",
   "execution_count": null,
   "metadata": {},
   "outputs": [],
   "source": [
    "# Removing rows from the dataframe that are redundant or that repeat the column names.\n",
    "for sheet in list(range(2002,2011,1)):\n",
    "    drop_non_datetime_values(DF_dict[\"{0}\".format(sheet)], \"Date\")"
   ]
  },
  {
   "cell_type": "markdown",
   "metadata": {},
   "source": [
    "Now lets focus our attention on the \"Time\" column"
   ]
  },
  {
   "cell_type": "code",
   "execution_count": null,
   "metadata": {
    "collapsed": true
   },
   "outputs": [],
   "source": [
    "# We have discovered some \"Time\" value that can not be changed to a time datatype due to how \n",
    "# they have been entered into the database. I will adjust these one-by-one to preserve as much information as possible:\n",
    "\n",
    "DF_dict[\"2002\"].loc[3, \"Time\"] = \"20:00:00\"  # Original value = \"Evening\"\n",
    "DF_dict[\"2003\"].loc[56, \"Time\"] = \"15:00:00\" # Original value = \"Approximately 3:00 p.m.\"\n",
    "DF_dict[\"2003\"].loc[78, \"Time\"] = \"12:00:00\" # Original value = \"12:00 noon\"\n",
    "DF_dict[\"2004\"].loc[3, \"Time\"] = \"00:00:00\"  # Original value = \"Midnight\"\n",
    "DF_dict[\"2004\"].loc[81, \"Time\"] = \"09:52:00\" # Original value = \"9: 52 a.m.\"\n",
    "DF_dict[\"2005\"].loc[13, \"Time\"] = \"17:28:00\" # Original value = \"5:78 p.m.\"\n",
    "DF_dict[\"2005\"].loc[21, \"Time\"] = \"00:00:00\" # Original value = \"Midnight\"\n",
    "DF_dict[\"2006\"].loc[12, \"Time\"] = \"00:00:00\" # Original value = \"Ongoing\"\n",
    "\n",
    "# This is the code I used to find the index value of the problematic time data:\n",
    "# DataFrame_dict[\"sheet2006\"][DataFrame_dict[\"sheet2006\"][\"Time\"] == \"Ongoing\"].index.values[0]"
   ]
  },
  {
   "cell_type": "code",
   "execution_count": null,
   "metadata": {
    "collapsed": true
   },
   "outputs": [],
   "source": [
    "# Now that the date and time columns are in a format that can be recognised by pd.to_datetime, \n",
    "# lets concatenate these two columns\n",
    "\n",
    "for sheet in list(range(2002,2011,1)):\n",
    "    DF_dict[\"{0}\".format(sheet)]['Date'] = pd.to_datetime(DF_dict[\"{0}\".format(sheet)]['Date'].astype(str) + ' ' + DF_dict[\"{0}\".format(sheet)]['Time'].astype(str))"
   ]
  },
  {
   "cell_type": "code",
   "execution_count": null,
   "metadata": {
    "collapsed": true
   },
   "outputs": [],
   "source": [
    "# Now that the time data is included in the first column of our dataframe we can drop the \"Time\" column \n",
    "# from the dataframes containing data for years 2002 - 2010\n",
    "\n",
    "for sheet in list(range(2002,2011,1)):\n",
    "    DF_dict[\"{0}\".format(sheet)] = DF_dict[\"{0}\".format(sheet)].drop(\"Time\", axis=1)"
   ]
  },
  {
   "cell_type": "code",
   "execution_count": null,
   "metadata": {
    "scrolled": true
   },
   "outputs": [],
   "source": [
    "# Lets check that the Date column now containes datetimes that include both date and time:\n",
    "DF_dict[\"2002\"].head()"
   ]
  },
  {
   "cell_type": "code",
   "execution_count": null,
   "metadata": {},
   "outputs": [],
   "source": [
    "DF_dict[\"2002\"].info()"
   ]
  },
  {
   "cell_type": "code",
   "execution_count": null,
   "metadata": {
    "collapsed": true
   },
   "outputs": [],
   "source": [
    "# Now that dataframes for 2002 - 2010 are fairly clean let us standardise the column names so we can concatenate the dataframes:\n",
    "\n",
    "for sheet in list(range(2002,2011,1)):\n",
    "    old_col = DF_dict[\"{0}\".format(sheet)].columns.tolist()\n",
    "    for n in range(len(post_cleaning_column_titles)):\n",
    "        DF_dict[\"{0}\".format(sheet)] = DF_dict[\"{0}\".format(sheet)].rename(columns={old_col[n]: post_cleaning_column_titles[n]})\n",
    "        \n",
    "    if len(old_col) > 7: #Drop all additional columns. some sheets had extra columns filled with NaNs\n",
    "        for x in range(7,len(old_col),1):\n",
    "            DF_dict[\"{0}\".format(sheet)] = DF_dict[\"{0}\".format(sheet)].drop(old_col[x], axis=1)\n"
   ]
  },
  {
   "cell_type": "code",
   "execution_count": null,
   "metadata": {
    "scrolled": true
   },
   "outputs": [],
   "source": [
    "DF_dict[\"2002\"].head() #Note, there is still some cleaning to do but we have the dataframe in the general format we want"
   ]
  },
  {
   "cell_type": "markdown",
   "metadata": {},
   "source": [
    "Next we will transform the \"datetime_of_restoration\" column into a datetime column which involves \n",
    "standardising the format of the date strings before using strptime with a .apply function to change \n",
    "the data strings to a recognisable datetime"
   ]
  },
  {
   "cell_type": "code",
   "execution_count": null,
   "metadata": {
    "collapsed": true
   },
   "outputs": [],
   "source": [
    "# Before we move on to clean the next section of sheets lets \n",
    "# create a function that standardises the format of the data in the column titled \"datetime_of_restoration\". \n",
    "# The data in this column has lots of data entry inconsistencies. I will use nested try/ except statements to increase the \n",
    "# chance of identifying and parsing the straing into a datetime in an semi-automated way. \n",
    "# The date that is still not recognised will be manually changed\n",
    "\n",
    "def standardise_date_format(date_val):\n",
    "    if type(date_val) != datetime:\n",
    "        try:\n",
    "            date_val = datetime.strptime(str(date_val), \"%Y-%m-%d %H:%M:%S\")\n",
    "        except:\n",
    "            try:\n",
    "                date_val = datetime.strptime(str(date_val), \"%m/%d/%y, %I:%M %p\")\n",
    "            except:\n",
    "                try:\n",
    "                    date_val = date_val.strftime(\"%Y-%m-%d %H:%M:%S\")\n",
    "                    date_val = datetime.strptime(str(date_val), \"%Y-%m-%d %H:%M:%S\")\n",
    "                except:\n",
    "                    try:\n",
    "                        date_val = datetime.strptime(str(date_val), \"%I:%M  %p%B %d%Y\")\n",
    "                    except:\n",
    "                        try:\n",
    "                            date_val = datetime.strptime(str(date_val), \"%I:%M %p%B %d%Y\")\n",
    "                        except:\n",
    "                            try:\n",
    "                                date_val = datetime.strptime(str(date_val), \"%I:%M %p %B %d%Y\")\n",
    "                            except:\n",
    "                                try:\n",
    "                                    date_val = datetime.strptime(str(date_val), \"%I:%M%p%B %d%Y\")\n",
    "                                except:\n",
    "                                        date_val = None\n",
    "                    \n",
    "            \n",
    "        \n",
    "    return date_val"
   ]
  },
  {
   "cell_type": "code",
   "execution_count": null,
   "metadata": {
    "collapsed": true
   },
   "outputs": [],
   "source": [
    "#Adding year to some of the raw data columns so that we can more easily convert to a datetime in a few steps:\n",
    "DF_dict[\"2006\"][\"datetime_of_restoration\"] = DF_dict[\"2006\"][\"datetime_of_restoration\"] + \"2006\"\n",
    "DF_dict[\"2007\"][\"datetime_of_restoration\"] = DF_dict[\"2007\"][\"datetime_of_restoration\"] + \"2007\"\n",
    "DF_dict[\"2008\"][\"datetime_of_restoration\"] = DF_dict[\"2008\"][\"datetime_of_restoration\"] + \"2008\"\n",
    "DF_dict[\"2009\"][\"datetime_of_restoration\"] = DF_dict[\"2009\"][\"datetime_of_restoration\"] + \"2009\"\n",
    "DF_dict[\"2010\"][\"datetime_of_restoration\"] = DF_dict[\"2010\"][\"datetime_of_restoration\"] + \"2010\""
   ]
  },
  {
   "cell_type": "code",
   "execution_count": null,
   "metadata": {},
   "outputs": [],
   "source": [
    "# Individual values in the 2002 \"datetime_of_restoration\" column that I want to reformat manually:\n",
    "DF_dict[\"2002\"][\"datetime_of_restoration\"][24] = datetime(2002, 11, 10, 12, 0, 0)"
   ]
  },
  {
   "cell_type": "code",
   "execution_count": null,
   "metadata": {},
   "outputs": [],
   "source": [
    "# Individual values in the 2003 \"datetime_of_restoration\" column that I want to reformat manually:\n",
    "\n",
    "DF_dict[\"2003\"][\"datetime_of_restoration\"][16] = datetime(2003, 4, 29, 12, 0, 0)\n",
    "DF_dict[\"2003\"][\"datetime_of_restoration\"][20] = datetime(2003, 4, 29, 12, 0, 0)\n",
    "DF_dict[\"2003\"][\"datetime_of_restoration\"][56] = datetime(2003, 8, 17, 17, 0, 0)\n",
    "DF_dict[\"2003\"][\"datetime_of_restoration\"][69] = datetime(2003, 8, 15, 6, 0, 0)\n",
    "DF_dict[\"2003\"][\"datetime_of_restoration\"][72] = datetime(2003, 8, 29, 12, 0, 0)\n",
    "DF_dict[\"2003\"][\"datetime_of_restoration\"][77] = datetime(2003, 9, 18, 0, 0, 0)\n",
    "DF_dict[\"2003\"][\"datetime_of_restoration\"][79] = datetime(2003, 9, 24, 0, 0, 0)\n",
    "DF_dict[\"2003\"][\"datetime_of_restoration\"][90] = datetime(2003, 11, 18, 10, 54, 0) "
   ]
  },
  {
   "cell_type": "code",
   "execution_count": null,
   "metadata": {},
   "outputs": [],
   "source": [
    "# Individual values in the 2004 \"datetime_of_restoration\" column that I want to reformat manually:\n",
    "DF_dict[\"2004\"][\"datetime_of_restoration\"][5] = datetime(2004, 1, 17, 12, 0, 0)\n",
    "DF_dict[\"2004\"][\"datetime_of_restoration\"][12] = datetime(2004, 2, 16, 12, 0, 0)\n",
    "DF_dict[\"2004\"][\"datetime_of_restoration\"][18] = datetime(2004, 3, 9, 8, 0, 0)\n",
    "DF_dict[\"2004\"][\"datetime_of_restoration\"][22] = datetime(2004, 4, 11, 16, 0, 0)\n",
    "DF_dict[\"2004\"][\"datetime_of_restoration\"][57] = datetime(2004, 7, 17, 8, 0, 0)\n",
    "DF_dict[\"2004\"][\"datetime_of_restoration\"][61] = datetime(2004, 7, 25, 21, 0, 0)\n",
    "DF_dict[\"2004\"][\"datetime_of_restoration\"][74] = datetime(2004, 8, 23, 0, 0, 0)\n",
    "DF_dict[\"2004\"][\"datetime_of_restoration\"][76] = datetime(2004, 8, 13, 0, 0, 0)\n",
    "DF_dict[\"2004\"][\"datetime_of_restoration\"][88] = datetime(2004, 9, 12, 0, 0, 0)\n",
    "DF_dict[\"2004\"][\"datetime_of_restoration\"][91] = datetime(2004, 9, 23, 12, 0, 0)\n",
    "DF_dict[\"2004\"][\"datetime_of_restoration\"][115] = datetime(2004, 11, 12, 13, 7, 0)"
   ]
  },
  {
   "cell_type": "code",
   "execution_count": null,
   "metadata": {},
   "outputs": [],
   "source": [
    "# Individual values in the 2005 \"datetime_of_restoration\" column that I want to reformat manually:\n",
    "DF_dict[\"2005\"][\"datetime_of_restoration\"][7] = datetime(2005, 1, 23, 11, 24, 0)\n",
    "DF_dict[\"2005\"][\"datetime_of_restoration\"][10] = datetime(2005, 1, 31, 10, 0, 0)\n",
    "DF_dict[\"2005\"][\"datetime_of_restoration\"][14] = datetime(2005, 2, 15, 13, 30, 0)\n",
    "DF_dict[\"2005\"][\"datetime_of_restoration\"][42] = datetime(2005, 6, 20, 17, 15, 0)\n",
    "DF_dict[\"2005\"][\"datetime_of_restoration\"][44] = None\n",
    "DF_dict[\"2005\"][\"datetime_of_restoration\"][52] = datetime(2005, 7, 11, 17, 33, 0)\n",
    "DF_dict[\"2005\"][\"datetime_of_restoration\"][77] = datetime(2005, 9, 8, 0, 1, 0)\n",
    "DF_dict[\"2005\"][\"datetime_of_restoration\"][98] = datetime(2005, 10, 2, 17, 0, 0)\n",
    "DF_dict[\"2005\"][\"datetime_of_restoration\"][102] = datetime(2005, 10, 18, 15, 37, 0)"
   ]
  },
  {
   "cell_type": "code",
   "execution_count": null,
   "metadata": {},
   "outputs": [],
   "source": [
    "# Individual values in the 2008 \"datetime_of_restoration\" column that I want to reformat manually:\n",
    "DF_dict[\"2008\"][\"datetime_of_restoration\"][57] = datetime(2008, 6, 4, 15, 46, 0)"
   ]
  },
  {
   "cell_type": "code",
   "execution_count": null,
   "metadata": {
    "collapsed": true
   },
   "outputs": [],
   "source": [
    "for sheet in list(range(2003, 2011, 1)): #NOTE - we do not include 2002 because 2002 does not use am/pm markers\n",
    "    DF_dict[\"{0}\".format(sheet)][\"datetime_of_restoration\"] = DF_dict[\"{0}\".format(sheet)][\"datetime_of_restoration\"].str.replace(\"a.m.\", \"AM\")\n",
    "    DF_dict[\"{0}\".format(sheet)][\"datetime_of_restoration\"] = DF_dict[\"{0}\".format(sheet)][\"datetime_of_restoration\"].str.replace(\"p.m.\", \"PM\")\n",
    "    DF_dict[\"{0}\".format(sheet)][\"datetime_of_restoration\"] = DF_dict[\"{0}\".format(sheet)][\"datetime_of_restoration\"].str.replace(\"PM \", \"PM\")\n",
    "    DF_dict[\"{0}\".format(sheet)][\"datetime_of_restoration\"] = DF_dict[\"{0}\".format(sheet)][\"datetime_of_restoration\"].str.replace(\"AM \", \"AM\")"
   ]
  },
  {
   "cell_type": "code",
   "execution_count": null,
   "metadata": {
    "collapsed": true,
    "scrolled": true
   },
   "outputs": [],
   "source": [
    "for sheet in list(range(2002, 2011, 1)):\n",
    "    DF_dict[\"{0}\".format(sheet)][\"datetime_of_restoration_cleaned\"] = DF_dict[\"{0}\".format(sheet)][\"datetime_of_restoration\"].apply(standardise_date_format)"
   ]
  },
  {
   "cell_type": "code",
   "execution_count": null,
   "metadata": {},
   "outputs": [],
   "source": [
    "# Look at the info() for each dataframe to confirm our new column \"datetime_of_restoration_cleaned\" contains datetime data:\n",
    "\n",
    "for sheet in list(range(2002, 2011, 1)):\n",
    "    txt = \"These are the columns for sheet {sheet_name}\"\n",
    "    print(txt.format(sheet_name=sheet), DF_dict[\"{0}\".format(sheet)].info())"
   ]
  },
  {
   "cell_type": "markdown",
   "metadata": {},
   "source": [
    "### Cleaning dataframes from the years 2011- 2015:"
   ]
  },
  {
   "cell_type": "code",
   "execution_count": null,
   "metadata": {},
   "outputs": [],
   "source": [
    "# Now we will move on to the dataframes that contain data for years 2011 - 2014. Lets look at the dataframe:\n",
    "DF_dict[\"2012\"].tail(100)"
   ]
  },
  {
   "cell_type": "code",
   "execution_count": null,
   "metadata": {
    "collapsed": true
   },
   "outputs": [],
   "source": [
    "# Step one, drop values from \"Date Event Began\" that are not datetime datatypes:\n",
    "for sheet in list(range(2011,2015,1)):\n",
    "    drop_non_datetime_values(DF_dict[\"{0}\".format(sheet)], \"Date Event Began\")"
   ]
  },
  {
   "cell_type": "code",
   "execution_count": null,
   "metadata": {
    "collapsed": true
   },
   "outputs": [],
   "source": [
    "#Let us make sure the first column contains the date only. initially some cells had date and time values which resulted in an error when I tried to merge columns later on\n",
    "\n",
    "def date_only(start_year, stop_year, name_of_date_col):\n",
    "    for sheet in list(range(start_year, stop_year+1, 1)):\n",
    "        DF_dict[\"{0}\".format(sheet)][name_of_date_col] = pd.to_datetime(DF_dict[\"{0}\".format(sheet)][name_of_date_col]).dt.date\n",
    "        "
   ]
  },
  {
   "cell_type": "code",
   "execution_count": null,
   "metadata": {},
   "outputs": [],
   "source": [
    "# I also want to make sure the column \"Time of restoration\" includes only time\n",
    "\n",
    "# Drop the problematic ongoing row first:\n",
    "DF_dict[\"2012\"].drop(axis=0, index=146, inplace=True)\n",
    "\n",
    "DF_dict[\"2012\"][\"Time of Restoration\"] = pd.to_datetime(DF_dict[\"2012\"][\"Time of Restoration\"].astype(str)).dt.time"
   ]
  },
  {
   "cell_type": "code",
   "execution_count": null,
   "metadata": {
    "collapsed": true
   },
   "outputs": [],
   "source": [
    "#Let us make sure the first column contains the date only. \n",
    "# Initially some cells had date and time values which resulted in an error when I tried to merge columns later on.\n",
    "\n",
    "date_only(2011,2014,'Date Event Began')"
   ]
  },
  {
   "cell_type": "code",
   "execution_count": null,
   "metadata": {
    "scrolled": true
   },
   "outputs": [],
   "source": [
    "DF_dict[\"2012\"].tail(20)"
   ]
  },
  {
   "cell_type": "code",
   "execution_count": null,
   "metadata": {
    "collapsed": true
   },
   "outputs": [],
   "source": [
    "# Merge date and time information\n",
    "\n",
    "for sheet in list(range(2011,2015,1)):\n",
    "    DF_dict[\"{0}\".format(sheet)]['Date Event Began'] = pd.to_datetime(DF_dict[\"{0}\".format(sheet)]['Date Event Began'].astype(str) + ' ' + DF_dict[\"{0}\".format(sheet)][\"Time Event Began\"].astype(str))"
   ]
  },
  {
   "cell_type": "code",
   "execution_count": null,
   "metadata": {
    "collapsed": true
   },
   "outputs": [],
   "source": []
  },
  {
   "cell_type": "code",
   "execution_count": null,
   "metadata": {
    "collapsed": true
   },
   "outputs": [],
   "source": []
  },
  {
   "cell_type": "code",
   "execution_count": null,
   "metadata": {
    "collapsed": true
   },
   "outputs": [],
   "source": []
  },
  {
   "cell_type": "code",
   "execution_count": null,
   "metadata": {
    "collapsed": true
   },
   "outputs": [],
   "source": []
  },
  {
   "cell_type": "code",
   "execution_count": null,
   "metadata": {
    "collapsed": true
   },
   "outputs": [],
   "source": []
  },
  {
   "cell_type": "code",
   "execution_count": null,
   "metadata": {
    "collapsed": true
   },
   "outputs": [],
   "source": []
  },
  {
   "cell_type": "code",
   "execution_count": null,
   "metadata": {},
   "outputs": [],
   "source": [
    "#Let us make sure the third column contains the date only. initially some cells had date and time values which resulted in an error when I tried to merge columns later on\n",
    "\n",
    "for sheet in list(range(2011,2015,1)):\n",
    "    for ind, row in DF_dict[\"{0}\".format(sheet)].iterrows():\n",
    "        if type(DF_dict[\"{0}\".format(sheet)]['Date of Restoration'][ind]) != datetime:\n",
    "            DF_dict[\"{0}\".format(sheet)]['Date of Restoration'][ind] = datetime.now().date()\n",
    "            #DataFrame_dict[\"sheet{0}\".format(sheet)]['Time of Restoration'][ind] = datetime.now().time()\n",
    "            \n",
    "        if type(DF_dict[\"{0}\".format(sheet)]['Time of Restoration'][ind]) == str:\n",
    "            DF_dict[\"{0}\".format(sheet)]['Time of Restoration'][ind] = \"00:00:00\"\n",
    "    \n",
    "    DF_dict[\"{0}\".format(sheet)]['Date of Restoration'] = pd.to_datetime(DF_dict[\"{0}\".format(sheet)]['Date of Restoration']).dt.date\n",
    "        "
   ]
  },
  {
   "cell_type": "code",
   "execution_count": null,
   "metadata": {
    "scrolled": false
   },
   "outputs": [],
   "source": [
    "for sheet in list(range(2011,2015,1)):\n",
    "    DF_dict[\"{0}\".format(sheet)]['Date of Restoration'] = pd.to_datetime(DF_dict[\"{0}\".format(sheet)]['Date of Restoration'].astype(str) + ' ' + DF_dict[\"{0}\".format(sheet)][\"Time of Restoration\"].astype(str))"
   ]
  },
  {
   "cell_type": "code",
   "execution_count": null,
   "metadata": {
    "collapsed": true
   },
   "outputs": [],
   "source": [
    "# Now that the \"Date Event Began\" column and \"Date of Restoration\" columns include datetime we can drop the \"Time Event Began\" and \"Time of Restoration\" columns \n",
    "# from the dataframes containing data for years 2011 - 2014\n",
    "\n",
    "for sheet in list(range(2011,2015,1)):\n",
    "    DF_dict[\"{0}\".format(sheet)] = DF_dict[\"{0}\".format(sheet)].drop([\"Time Event Began\", \"Time of Restoration\"], axis=1)"
   ]
  },
  {
   "cell_type": "code",
   "execution_count": null,
   "metadata": {
    "collapsed": true
   },
   "outputs": [],
   "source": [
    "# Now we need to reorder the columns so they are in the same order as the initial sheets we cleaned.\n",
    "\n",
    "for sheet in list(range(2011,2015,1)):\n",
    "    old_col = DF_dict[\"{0}\".format(sheet)].columns.tolist()\n",
    "    DF_dict[\"{0}\".format(sheet)] = DF_dict[\"{0}\".format(sheet)][[old_col[0], old_col[3], old_col[2], old_col[4], old_col[5], old_col[6], old_col[1]]]"
   ]
  },
  {
   "cell_type": "code",
   "execution_count": null,
   "metadata": {
    "collapsed": true
   },
   "outputs": [],
   "source": [
    "for sheet in list(range(2011,2015,1)):\n",
    "    old_col = DF_dict[\"{0}\".format(sheet)].columns.tolist()\n",
    "    for n in range(len(post_cleaning_column_titles)):\n",
    "        DF_dict[\"{0}\".format(sheet)] = DF_dict[\"{0}\".format(sheet)].rename(columns={old_col[n]: post_cleaning_column_titles[n]})\n",
    "        \n",
    "    if len(old_col) > 7: #Drop all additional columns\n",
    "        for x in range(7,len(old_col),1):\n",
    "            DF_dict[\"{0}\".format(sheet)] = DF_dict[\"{0}\".format(sheet)].drop(old_col[x], axis=1)"
   ]
  },
  {
   "cell_type": "code",
   "execution_count": null,
   "metadata": {
    "scrolled": false
   },
   "outputs": [],
   "source": [
    "DF_dict[\"2014\"].head()"
   ]
  },
  {
   "cell_type": "code",
   "execution_count": null,
   "metadata": {
    "collapsed": true
   },
   "outputs": [],
   "source": [
    "for sheet in list(range(2011, 2015, 1)):\n",
    "    DF_dict[\"{0}\".format(sheet)][\"datetime_of_restoration_cleaned\"] = DF_dict[\"{0}\".format(sheet)][\"datetime_of_restoration\"].apply(standardise_date_format)"
   ]
  },
  {
   "cell_type": "code",
   "execution_count": null,
   "metadata": {},
   "outputs": [],
   "source": [
    "DF_dict[\"2014\"].head()"
   ]
  },
  {
   "cell_type": "markdown",
   "metadata": {
    "collapsed": true
   },
   "source": [
    "### Cleaning dataframes from the years 2015- 2023:"
   ]
  },
  {
   "cell_type": "code",
   "execution_count": null,
   "metadata": {},
   "outputs": [],
   "source": [
    "# Now we will move on to the dataframes that contain data for years 2015 - 2023. Lets look at the dataframe:\n",
    "DF_dict[\"2018\"].head()"
   ]
  },
  {
   "cell_type": "code",
   "execution_count": null,
   "metadata": {
    "collapsed": true
   },
   "outputs": [],
   "source": [
    "# Drop month column because it is redundant and also drop alert criteria column, we will not be analysing this column this time. \n",
    "\n",
    "for sheet in list(range(2015,2024,1)):\n",
    "    column_titles = DF_dict[\"{0}\".format(sheet)].columns.tolist()\n",
    "    if \"Month\" in column_titles:\n",
    "        DF_dict[\"{0}\".format(sheet)] = DF_dict[\"{0}\".format(sheet)].drop([\"Month\"], axis=1)\n",
    "    if \"Event Month\" in column_titles:\n",
    "        DF_dict[\"{0}\".format(sheet)] = DF_dict[\"{0}\".format(sheet)].drop([\"Event Month\"], axis=1)\n",
    "    if \"Event Year\" in column_titles:\n",
    "        DF_dict[\"{0}\".format(sheet)] = DF_dict[\"{0}\".format(sheet)].drop([\"Event Year\"], axis=1)\n",
    "    if \"Alert Criteria\" in column_titles:\n",
    "        DF_dict[\"{0}\".format(sheet)] = DF_dict[\"{0}\".format(sheet)].drop([\"Alert Criteria\"], axis=1)"
   ]
  },
  {
   "cell_type": "code",
   "execution_count": null,
   "metadata": {
    "collapsed": true
   },
   "outputs": [],
   "source": [
    "#Let us make sure the first column contains the date only. initially some cells had date and time values which resulted in an error when I tried to merge columns later on\n",
    "\n",
    "date_only(2015, 2023, \"Date Event Began\")"
   ]
  },
  {
   "cell_type": "code",
   "execution_count": null,
   "metadata": {},
   "outputs": [],
   "source": [
    "# We have data issues in sheets 2015, 2016, 2017. \n",
    "# The issue is that these sheets have many rows of NaNs at the very bottom of the spreadsheet that we need to remove\n",
    "\n",
    "for sheet in list(range(2015,2024,1)):\n",
    "    datetime_col = pd.to_datetime(DF_dict[\"{0}\".format(sheet)]['Date Event Began'], errors='coerce')\n",
    "    print(sheet, datetime_col.isnull().sum())"
   ]
  },
  {
   "cell_type": "code",
   "execution_count": null,
   "metadata": {
    "collapsed": true
   },
   "outputs": [],
   "source": [
    "# instead of dropping rows that have NaN, how about we keep rows that are not NaN:\n",
    "\n",
    "for sheet in list(range(2015,2024,1)):\n",
    "    DF_dict[\"{0}\".format(sheet)] = DF_dict[\"{0}\".format(sheet)][DF_dict[\"{0}\".format(sheet)]['Date Event Began'].notna()]"
   ]
  },
  {
   "cell_type": "code",
   "execution_count": null,
   "metadata": {},
   "outputs": [],
   "source": [
    "# The code above has resolved the issues of the NaNs at the very bottom of some of the spreadsheets\n",
    "\n",
    "for sheet in list(range(2015,2024,1)):\n",
    "    datetime_col = pd.to_datetime(DF_dict[\"{0}\".format(sheet)]['Date Event Began'], errors='coerce')\n",
    "    print(sheet, datetime_col.isnull().sum())"
   ]
  },
  {
   "cell_type": "code",
   "execution_count": null,
   "metadata": {
    "collapsed": true
   },
   "outputs": [],
   "source": [
    "# keep rows that are not \"Unknown\" \n",
    "# (There are a significant number of unknown values that are preventing us from processing the datetime columns properly)\n",
    "\n",
    "for sheet in list(range(2015,2024,1)):\n",
    "    DF_dict[\"{0}\".format(sheet)] = DF_dict[\"{0}\".format(sheet)][DF_dict[\"{0}\".format(sheet)]['Date of Restoration'].str.strip(\" \") !=  \"Unknown\"]"
   ]
  },
  {
   "cell_type": "code",
   "execution_count": null,
   "metadata": {
    "collapsed": true
   },
   "outputs": [],
   "source": [
    "# Merge Date Event Began and Time Event Began \n",
    "\n",
    "for sheet in list(range(2015,2024,1)):\n",
    "    DF_dict[\"{0}\".format(sheet)]['Date Event Began'] = pd.to_datetime(DF_dict[\"{0}\".format(sheet)]['Date Event Began'].astype(str) + ' ' + DF_dict[\"{0}\".format(sheet)][\"Time Event Began\"].astype(str))"
   ]
  },
  {
   "cell_type": "code",
   "execution_count": null,
   "metadata": {
    "collapsed": true
   },
   "outputs": [],
   "source": [
    "# Now we want to combine the restoration date and restoration time columns. \n",
    "# But first we need to get rid of two problematic rows that are missing critical data\n",
    "\n",
    "DF_dict[\"2022\"].drop(66, axis=0, inplace=True)\n",
    "DF_dict[\"2023\"].drop(13, axis=0, inplace=True)"
   ]
  },
  {
   "cell_type": "code",
   "execution_count": null,
   "metadata": {
    "collapsed": true
   },
   "outputs": [],
   "source": [
    "for sheet in list(range(2015,2024,1)):\n",
    "    DF_dict[\"{0}\".format(sheet)]['Date of Restoration'] = pd.to_datetime(DF_dict[\"{0}\".format(sheet)]['Date of Restoration'].astype(str) + ' ' + DF_dict[\"{0}\".format(sheet)][\"Time of Restoration\"].astype(str))"
   ]
  },
  {
   "cell_type": "code",
   "execution_count": null,
   "metadata": {
    "collapsed": true
   },
   "outputs": [],
   "source": [
    "# Now that the \"Date Event Began\" column and \"Date of Restoration\" columns include datetime we can drop the \"Time Event Began\" and \"Time of Restoration\" columns \n",
    "# from the dataframes containing data for years 2011 - 2014\n",
    "\n",
    "for sheet in list(range(2015,2024,1)):\n",
    "    DF_dict[\"{0}\".format(sheet)] = DF_dict[\"{0}\".format(sheet)].drop([\"Time Event Began\", \"Time of Restoration\"], axis=1)"
   ]
  },
  {
   "cell_type": "code",
   "execution_count": null,
   "metadata": {
    "collapsed": true
   },
   "outputs": [],
   "source": [
    "# Now we need to reorder the columns so they are in the same order as the initial sheets we cleaned.\n",
    "\n",
    "for sheet in list(range(2015,2024,1)):\n",
    "    old_col = DF_dict[\"{0}\".format(sheet)].columns.tolist()\n",
    "    DF_dict[\"{0}\".format(sheet)] = DF_dict[\"{0}\".format(sheet)][[old_col[0], old_col[3], old_col[2], old_col[4], old_col[5], old_col[6], old_col[1]]]"
   ]
  },
  {
   "cell_type": "code",
   "execution_count": null,
   "metadata": {
    "collapsed": true
   },
   "outputs": [],
   "source": [
    "for sheet in list(range(2015,2024,1)):\n",
    "    old_col = DF_dict[\"{0}\".format(sheet)].columns.tolist()\n",
    "    for n in range(len(post_cleaning_column_titles)):\n",
    "        DF_dict[\"{0}\".format(sheet)] = DF_dict[\"{0}\".format(sheet)].rename(columns={old_col[n]: post_cleaning_column_titles[n]})\n",
    "        \n",
    "    if len(old_col) > 7: #Drop all additional columns\n",
    "        for x in range(7,len(old_col),1):\n",
    "            DF_dict[\"{0}\".format(sheet)] = DF_dict[\"{0}\".format(sheet)].drop(old_col[x], axis=1)"
   ]
  },
  {
   "cell_type": "code",
   "execution_count": null,
   "metadata": {
    "collapsed": true
   },
   "outputs": [],
   "source": [
    "for sheet in list(range(2015, 2024, 1)):\n",
    "    DF_dict[\"{0}\".format(sheet)][\"datetime_of_restoration_cleaned\"] = DF_dict[\"{0}\".format(sheet)][\"datetime_of_restoration\"].apply(standardise_date_format)"
   ]
  },
  {
   "cell_type": "code",
   "execution_count": null,
   "metadata": {
    "scrolled": true
   },
   "outputs": [],
   "source": [
    "DF_dict[\"2016\"].info()"
   ]
  },
  {
   "cell_type": "markdown",
   "metadata": {},
   "source": [
    "### Creating a single dataframe"
   ]
  },
  {
   "cell_type": "code",
   "execution_count": null,
   "metadata": {},
   "outputs": [],
   "source": [
    "# Now that dataframes for 2002 - 2023 are fairly clean and standardised, lets concatenate them:\n",
    "\n",
    "disturbances = DF_dict[\"2002\"]\n",
    "\n",
    "for sheet in list(range(2003,2024,1)):\n",
    "    disturbances = disturbances.append(DF_dict[\"{0}\".format(sheet)], ignore_index=True)\n",
    "\n",
    "disturbances"
   ]
  },
  {
   "cell_type": "code",
   "execution_count": null,
   "metadata": {},
   "outputs": [],
   "source": [
    "disturbances.info()"
   ]
  },
  {
   "cell_type": "markdown",
   "metadata": {},
   "source": [
    "## More pre-processing - adjusting the datatypes for easier data manipulation"
   ]
  },
  {
   "cell_type": "code",
   "execution_count": null,
   "metadata": {},
   "outputs": [],
   "source": [
    "## Convert the columns \"Datetime_event_began\" and \"Datetime_of_restoration\" to a datetime datatype:\n",
    "\n",
    "disturbances[\"datetime_event_began\"] = pd.to_datetime(disturbances[\"datetime_event_began\"], format= \"%Y-%m-%d %H:%M:%S\", utc=True)\n",
    "disturbances[\"datetime_event_began\"] = disturbances[\"datetime_event_began\"].dt.tz_localize(None)"
   ]
  },
  {
   "cell_type": "code",
   "execution_count": null,
   "metadata": {},
   "outputs": [],
   "source": [
    "# The column \"number_of_customers_affected\" is currently a string, lets try converting this to an int.\n",
    "\n",
    "for ind, row in disturbances.iterrows():\n",
    "    try:\n",
    "        disturbances[\"number_of_customers_affected\"][ind] = int(disturbances[\"number_of_customers_affected\"][ind])\n",
    "    except:\n",
    "        disturbances[\"number_of_customers_affected\"][ind] = None"
   ]
  },
  {
   "cell_type": "code",
   "execution_count": null,
   "metadata": {
    "collapsed": true
   },
   "outputs": [],
   "source": [
    "# Now lets convert the column \"number of customers affected\" to an int\n",
    "\n",
    "disturbances['number_of_customers_affected'] = disturbances['number_of_customers_affected'].fillna(0).astype(int)\n",
    "disturbances['number_of_customers_affected'] = disturbances['number_of_customers_affected'].astype(str).astype(int)"
   ]
  },
  {
   "cell_type": "code",
   "execution_count": null,
   "metadata": {},
   "outputs": [],
   "source": [
    "# Remove problematic row:\n",
    "disturbances.drop(axis = 0, index=1357, inplace=True)"
   ]
  },
  {
   "cell_type": "code",
   "execution_count": null,
   "metadata": {},
   "outputs": [],
   "source": [
    "disturbances['demand_loss_(MW)'].iloc[742] = \"0\"  # Original value = \"datetime(2011, 6, 8, 0, 0)\"\n",
    "\n",
    "# We will also convert the column \"demand_loss_(MW)\" to a float. But first we will replace some values that do not fit the fomat expected:\n",
    "disturbances['demand_loss_(MW)'] = disturbances['demand_loss_(MW)'].replace({\n",
    "    \"500-600\":\"500\",\n",
    "    \"200-250\": \"200\",\n",
    "    \"75-90\":\"75\",\n",
    "    \"75-90 \":\"75\",\n",
    "    \"230-300\":\"230\",\n",
    "    \"500-1000\":\"500\",\n",
    "    \"Approx. 18,500 MW, in MISO area:\":\"18500\",\n",
    "    \"18,500\":\"18500\",\n",
    "    \"4,100 MW (Northern NJ) and 400 MW, (Erie,  PA) area\":\"4500\",\n",
    "    \"peak 1655 \":\"1655\",\n",
    "    \"500-700\":\"500\",\n",
    "    \"Est. 371.1\":\"370\",\n",
    "    \"Est. 75\":\"75\",\n",
    "    \"Approx. 180\":\"180\",\n",
    "    \"Est. 400\":\"400\",\n",
    "    \"Less than 150\":\"150\",\n",
    "    \"Approx. 300\":\"300\",\n",
    "    \"Approx. 30  \":\"30\",\n",
    "    \"Less than 300\":\"300\",\n",
    "    \"Approx. 100\":\"100\",\n",
    "    \"Approx. 85\":\"85\",\n",
    "    \"133 on 5/21/04  between 3:00 a.m. and 4:00  a.m., 392 on 5/21/04 between 4:00 p.m. and 5:00 p.m.\":\"525\",\n",
    "    \"177 on 5/21/04 between 3:00 p.m. and 5:00 p.m.\":\"177\",\n",
    "    \"60 at peak, \":\"60\",\n",
    "    \"-\":\"0\",\n",
    "    \"Approx. 200\":\"200\",\n",
    "    'All':\"0\",\n",
    "    \"65 to 100\":\"65\",\n",
    "    \"50-60 \":\"50\",\n",
    "    \"50-100\":\"50\",\n",
    "    'unknown':\"0\",\n",
    "    '  N/A':\"0\",\n",
    "    \"--\":\"0\",\n",
    "    \"0,\":\"0\",\n",
    "    \"37- 40\":\"37\",\n",
    "    \"100-140\":\"100\",\n",
    "    \"80 to 100\":\"80\",\n",
    "    \"300-500\":\"300\",\n",
    "    \"65-80\":\"65\",\n",
    "    \"8,000-10,000\":\"8000\",\n",
    "    \"800-1,000\":\"800\",\n",
    "    \"8-Jun\":\"0\",\n",
    "    \"900-1000\":\"900\",\n",
    "    \"UNK\":\"0\",\n",
    "    \"Unknown\":\"0\",\n",
    "    \"UNK \":\"0\",\n",
    "})\n",
    "\n",
    "disturbances['demand_loss_(MW)'] = disturbances['demand_loss_(MW)'].fillna(0).astype(int)\n",
    "disturbances['demand_loss_(MW)'] = disturbances['demand_loss_(MW)'].astype(str).astype(float)"
   ]
  },
  {
   "cell_type": "code",
   "execution_count": null,
   "metadata": {
    "collapsed": true
   },
   "outputs": [],
   "source": [
    "# There seem to be some NERC codes that have spaces, lets clean these up by removing the spaces:\n",
    "disturbances[\"NERC_region\"] = disturbances[\"NERC_region\"].str.replace(\" \", \"\")\n",
    "\n",
    "# We also want to address some naming inconsistencies in the data:\n",
    "disturbances[\"NERC_region\"] = disturbances[\"NERC_region\"].replace(\n",
    "    {\n",
    "        \"RF\":\"RFC\",\n",
    "        \"RF/SERC\":\"SERC/RF\",\n",
    "        \"MRO/SERC\":\"SERC/MRO\",\n",
    "        \"RFC;SERC\":\"SERC/RFC\",\n",
    "        \"NPPC\":\"NPCC\",\n",
    "        \"RF/MRO\":\"MRO/RF\",\n",
    "        \"MR0\":\"MRO\",\n",
    "        \"NPCC,RFC\":\"NPCC/RFC\",\n",
    "        \"NPCC;RFC\":\"NPCC/RFC\",\n",
    "        \"RFC,SERC\":\"SERC/RFC\",\n",
    "        \"SPP,SERC,TRE\":\"SERC/SPP/TRE\",\n",
    "        \"NP\":\"NPCC\",\n",
    "        \"MECO\":\"Other\",\n",
    "        \"REC\":\"Other\",\n",
    "        \"HI\":\"Other\",\n",
    "        \"MidwestISO(RFC\":\"Other\",\n",
    "        \"TE\":\"Other\",\n",
    "        \"WeEnergiesMAIN\":\"Other\"\n",
    "    })"
   ]
  },
  {
   "cell_type": "code",
   "execution_count": null,
   "metadata": {
    "scrolled": true
   },
   "outputs": [],
   "source": [
    "disturbances.info()"
   ]
  },
  {
   "cell_type": "code",
   "execution_count": null,
   "metadata": {
    "collapsed": true
   },
   "outputs": [],
   "source": [
    "disturbances[\"outage_duration\"] = disturbances[\"datetime_of_restoration_cleaned\"] - disturbances[\"datetime_event_began\"]"
   ]
  },
  {
   "cell_type": "code",
   "execution_count": null,
   "metadata": {
    "scrolled": true
   },
   "outputs": [],
   "source": [
    "disturbances.head(10)"
   ]
  },
  {
   "cell_type": "code",
   "execution_count": null,
   "metadata": {},
   "outputs": [],
   "source": [
    "disturbances = disturbances.drop(axis=1, labels=\"datetime_of_restoration\")"
   ]
  },
  {
   "cell_type": "code",
   "execution_count": null,
   "metadata": {},
   "outputs": [],
   "source": [
    "disturbances_condensed = disturbances[[\"datetime_event_began\", \"datetime_of_restoration_cleaned\", \"outage_duration\", \"NERC_region\", \"demand_loss_(MW)\", \"number_of_customers_affected\"]]"
   ]
  },
  {
   "cell_type": "code",
   "execution_count": null,
   "metadata": {},
   "outputs": [],
   "source": [
    "disturbances_condensed.head()"
   ]
  },
  {
   "cell_type": "markdown",
   "metadata": {},
   "source": [
    "#### The features we want to work with (\"datetime_event_began\", \"demand_loss_(MW)\", and \"number_of_customers_affected\") are now in the correct format. EDA can begin!"
   ]
  },
  {
   "cell_type": "code",
   "execution_count": null,
   "metadata": {},
   "outputs": [],
   "source": [
    "# disturbances_condensed.to_csv('disturbances2002_2023_cleaned_condensed.csv')"
   ]
  },
  {
   "cell_type": "markdown",
   "metadata": {},
   "source": [
    "## Step 3. Exploratory Data Analysis (EDA)"
   ]
  },
  {
   "cell_type": "code",
   "execution_count": 38,
   "metadata": {
    "collapsed": true
   },
   "outputs": [],
   "source": [
    "import pandas as pd\n",
    "import numpy as np\n",
    "import matplotlib.pyplot as plt\n",
    "import seaborn as sns\n",
    "from datetime import datetime, timedelta"
   ]
  },
  {
   "cell_type": "code",
   "execution_count": 3,
   "metadata": {
    "scrolled": true
   },
   "outputs": [],
   "source": [
    "disturbances = pd.read_csv(\"disturbances2002_2023_cleaned_condensed.csv\")"
   ]
  },
  {
   "cell_type": "code",
   "execution_count": 6,
   "metadata": {},
   "outputs": [
    {
     "name": "stdout",
     "output_type": "stream",
     "text": [
      "<class 'pandas.core.frame.DataFrame'>\n",
      "RangeIndex: 3616 entries, 0 to 3615\n",
      "Data columns (total 7 columns):\n",
      " #   Column                           Non-Null Count  Dtype          \n",
      "---  ------                           --------------  -----          \n",
      " 0   Unnamed: 0                       3616 non-null   int64          \n",
      " 1   datetime_event_began             3616 non-null   object         \n",
      " 2   datetime_of_restoration_cleaned  3579 non-null   object         \n",
      " 3   outage_duration                  3579 non-null   timedelta64[ns]\n",
      " 4   NERC_region                      3596 non-null   object         \n",
      " 5   demand_loss_(MW)                 3616 non-null   float64        \n",
      " 6   number_of_customers_affected     3616 non-null   int64          \n",
      "dtypes: float64(1), int64(2), object(3), timedelta64[ns](1)\n",
      "memory usage: 155.4+ KB\n"
     ]
    }
   ],
   "source": [
    "disturbances.info()"
   ]
  },
  {
   "cell_type": "code",
   "execution_count": 31,
   "metadata": {},
   "outputs": [
    {
     "data": {
      "text/plain": [
       "0      8 days 06:00:00\n",
       "1                  NaT\n",
       "2     11 days 05:00:00\n",
       "3      0 days 00:47:00\n",
       "4      2 days 12:00:00\n",
       "5      0 days 09:00:00\n",
       "6      0 days 07:27:00\n",
       "7      0 days 04:39:00\n",
       "8      0 days 07:32:00\n",
       "9      0 days 05:53:00\n",
       "10     0 days 03:50:00\n",
       "11     0 days 05:36:00\n",
       "12     0 days 01:29:00\n",
       "13     8 days 20:27:00\n",
       "14     3 days 14:00:00\n",
       "15                 NaT\n",
       "16     4 days 02:00:00\n",
       "17     6 days 04:00:00\n",
       "18     2 days 08:51:00\n",
       "19     5 days 05:00:00\n",
       "20     2 days 11:00:00\n",
       "21     0 days 12:00:00\n",
       "22     1 days 22:30:00\n",
       "23     0 days 12:00:00\n",
       "24     1 days 20:28:00\n",
       "25     2 days 22:00:00\n",
       "26     1 days 10:49:00\n",
       "27     0 days 03:06:00\n",
       "28                 NaT\n",
       "29                 NaT\n",
       "30     0 days 12:00:00\n",
       "31     0 days 00:37:00\n",
       "32    32 days 00:00:00\n",
       "33     1 days 01:48:00\n",
       "34   -1 days +11:00:00\n",
       "35                 NaT\n",
       "36     0 days 02:05:00\n",
       "37     0 days 04:00:00\n",
       "38     2 days 07:00:00\n",
       "39     1 days 21:19:00\n",
       "40     0 days 04:00:00\n",
       "41     0 days 06:00:00\n",
       "42     3 days 12:00:00\n",
       "43     0 days 01:55:00\n",
       "44     6 days 02:06:00\n",
       "45     2 days 12:18:00\n",
       "46     0 days 01:40:00\n",
       "47                 NaT\n",
       "48     1 days 14:51:00\n",
       "49     1 days 20:54:00\n",
       "50     2 days 04:17:00\n",
       "51     1 days 11:35:00\n",
       "52     3 days 07:53:00\n",
       "53     0 days 07:38:00\n",
       "54                 NaT\n",
       "55     1 days 04:52:00\n",
       "56                 NaT\n",
       "57     5 days 01:38:00\n",
       "58     0 days 12:41:00\n",
       "59    11 days 14:22:00\n",
       "Name: outage_duration, dtype: timedelta64[ns]"
      ]
     },
     "execution_count": 31,
     "metadata": {},
     "output_type": "execute_result"
    }
   ],
   "source": [
    "disturbances[\"outage_duration\"].head(60)"
   ]
  },
  {
   "cell_type": "code",
   "execution_count": 52,
   "metadata": {
    "scrolled": true
   },
   "outputs": [],
   "source": [
    "def total_seconds(val):\n",
    "    return val.total_seconds()\n",
    "\n",
    "disturbances[\"outage_duration_hours\"] = disturbances[\"outage_duration\"].apply(total_seconds) / 3600 "
   ]
  },
  {
   "cell_type": "code",
   "execution_count": 61,
   "metadata": {
    "scrolled": true
   },
   "outputs": [
    {
     "data": {
      "text/plain": [
       "(3616, 8)"
      ]
     },
     "execution_count": 61,
     "metadata": {},
     "output_type": "execute_result"
    }
   ],
   "source": [
    "disturbances.shape"
   ]
  },
  {
   "cell_type": "code",
   "execution_count": 100,
   "metadata": {},
   "outputs": [
    {
     "name": "stdout",
     "output_type": "stream",
     "text": [
      "<class 'pandas.core.frame.DataFrame'>\n",
      "RangeIndex: 3616 entries, 0 to 3615\n",
      "Data columns (total 10 columns):\n",
      " #   Column                           Non-Null Count  Dtype          \n",
      "---  ------                           --------------  -----          \n",
      " 0   Unnamed: 0                       3616 non-null   int64          \n",
      " 1   datetime_event_began             3616 non-null   datetime64[ns] \n",
      " 2   datetime_of_restoration_cleaned  3579 non-null   object         \n",
      " 3   outage_duration                  3579 non-null   timedelta64[ns]\n",
      " 4   NERC_region                      3596 non-null   object         \n",
      " 5   demand_loss_(MW)                 3616 non-null   float64        \n",
      " 6   number_of_customers_affected     3616 non-null   int64          \n",
      " 7   outage_duration_hours            3579 non-null   float64        \n",
      " 8   demand_loss_(MW)_clipped         3616 non-null   float64        \n",
      " 9   outage_duration_hours_clipped    3579 non-null   float64        \n",
      "dtypes: datetime64[ns](1), float64(4), int64(2), object(2), timedelta64[ns](1)\n",
      "memory usage: 254.3+ KB\n"
     ]
    }
   ],
   "source": [
    "disturbances.info()"
   ]
  },
  {
   "cell_type": "code",
   "execution_count": 60,
   "metadata": {
    "scrolled": true
   },
   "outputs": [
    {
     "data": {
      "text/plain": [
       "(3518, 8)"
      ]
     },
     "execution_count": 60,
     "metadata": {},
     "output_type": "execute_result"
    }
   ],
   "source": [
    "temp = disturbances[disturbances[\"outage_duration_hours\"] >= 0]\n",
    "temp.head(50)\n",
    "temp.shape"
   ]
  },
  {
   "cell_type": "code",
   "execution_count": 99,
   "metadata": {
    "collapsed": true
   },
   "outputs": [],
   "source": [
    "disturbances[\"datetime_event_began\"] = pd.to_datetime(disturbances[\"datetime_event_began\"])\n",
    "disturbances[\"outage_duration\"] = pd.to_timedelta(disturbances[\"outage_duration\"])\n",
    "disturbances[\"outage_duration\"] = pd.to_timedelta(disturbances[\"outage_duration\"], unit=\"hours\")"
   ]
  },
  {
   "cell_type": "markdown",
   "metadata": {},
   "source": [
    "This data exploration will focus on two features from the dataset: NERC Region and Demand Loss (MW). The North American Electric Reliability Corportion (NERC) is concerned about regional weknesses in the energy grid and want to know where to focus their energy if they want to improve energy reliability across their regional portfolio. This analysis is the first step toward understanding where the most powere outage events are happening as well as how much demand loss occers per event. "
   ]
  },
  {
   "cell_type": "markdown",
   "metadata": {},
   "source": [
    "### What North American Electric Reliability Corportion (NERC) regions had the most outages from 2002-2023?"
   ]
  },
  {
   "cell_type": "code",
   "execution_count": 82,
   "metadata": {
    "collapsed": true
   },
   "outputs": [],
   "source": [
    "# Create a dataframe that defines the NERC Region codes. We will use this as a legend for the figure below.\n",
    "\n",
    "NERC_region_dict = {\"NERC region codes\":\n",
    "    {\"MRO\": \"Midwest Reliability Organisation\",\n",
    "    \"NPCC\": \"Northeast Power Coordinating Council\",\n",
    "    \"RFC\": \"ReliabilityFirst Corporation\",\n",
    "    \"SERC\": \"SERC Reliability Corporation\",\n",
    "    \"SPP\": \"Southwest Power Pool\",\n",
    "    \"TRE\": \"Texas Reliability Entity\",\n",
    "    \"WECC\": \"Western Electricity Coordinating Council\",\n",
    "    \"FRCC\": \"Florida Reliability Coordinating Council\",\n",
    "    \"MAPP\": \"Mid-continent Area Power Pool\",\n",
    "    \"HECO\": \"Hawaiian Electric\",\n",
    "    \"MAAC\": \"Mid-Atlantic Area Council\",\n",
    "    \"WSCC\": \"Western Systems Coordinating Council\",\n",
    "    \"MAIN\": \"Mid-America Interconnected Network\",\n",
    "    \"ERCOT\": \"Electric Reliability Council of Texas\",\n",
    "    \"ECAR\": \"East Central Area Reliability Coordination Agreement\",\n",
    "    \"SPP RE\": \"SPP Regional Entity\"}\n",
    "}\n",
    "\n",
    "NERC_region_df = pd.DataFrame(NERC_region_dict)"
   ]
  },
  {
   "cell_type": "code",
   "execution_count": 83,
   "metadata": {},
   "outputs": [
    {
     "data": {
      "image/png": "[encoded data removed]",
      "text/plain": [
       "<Figure size 1080x1080 with 1 Axes>"
      ]
     },
     "metadata": {},
     "output_type": "display_data"
    }
   ],
   "source": [
    "plt.figure(figsize=(15, 15))\n",
    "sns.countplot(data=disturbances, y='NERC_region', order=disturbances['NERC_region'].value_counts().index, dodge=False)\n",
    "plt.title(\"NERC Regions with power outage disturbances 2022 - 2023\")\n",
    "\n",
    "# Add a table to the right of the plot:\n",
    "Legend_table = plt.table(cellText= NERC_region_df.values,\n",
    "                        rowLabels= NERC_region_df.index,\n",
    "                        colLabels= NERC_region_df.columns,\n",
    "                        bbox=(1.1, .2, 0.5, 0.5))\n",
    "\n",
    "plt.show()"
   ]
  },
  {
   "cell_type": "markdown",
   "metadata": {},
   "source": [
    "From the figure above, we can see that the majority of outage events occur in 6-7 NERC regions. It is unclear at this stage whether this has anything to do with sampling bias. More analysis is necessary. My recommendation for NERC is to investigate the following regions more closely to see if there are grid weaknesses that need addressing. These regions had the most outage events from 2002 - 2023:\n",
    "- Western Electricity Coordinating Council\n",
    "- Reliability First Corporation\n",
    "- SERC Reliability Corporation\n",
    "- Northeast Power Coordinating Council\n",
    "- Texas Reliability Entity\n",
    "- Midwest Reliability Reliability Organisation"
   ]
  },
  {
   "cell_type": "markdown",
   "metadata": {},
   "source": [
    "### How much demand loss (in MW) can be expected in a typical outage event? "
   ]
  },
  {
   "cell_type": "markdown",
   "metadata": {},
   "source": [
    "We will look at the regions of interested above and see what the demand loss looks like per region. "
   ]
  },
  {
   "cell_type": "code",
   "execution_count": 85,
   "metadata": {},
   "outputs": [
    {
     "data": {
      "image/png": "[encoded data removed]",
      "text/plain": [
       "<Figure size 1080x288 with 1 Axes>"
      ]
     },
     "metadata": {},
     "output_type": "display_data"
    }
   ],
   "source": [
    "plt.figure(figsize=(15, 4))  #NOTE: Figsize needs to be executed before the boxplot method of else it will not apply\n",
    "sns.boxplot(\n",
    "    data=disturbances[disturbances['NERC_region'].isin([\"WECC\", \"RFC\", \"SERC\", \"NPCC\", \"TRE\", \"MRO\"])],\n",
    "    x='NERC_region',\n",
    "    y='demand_loss_(MW)'\n",
    ")\n",
    "\n",
    "plt.title(\"Power outage demand loss per NERC Region\")\n",
    "plt.xlabel(\"NERC region\")\n",
    "plt.ylabel(\"Demand loss (MW)\")\n",
    "plt.show()"
   ]
  },
  {
   "cell_type": "markdown",
   "metadata": {},
   "source": [
    "The data above if difficult to understand due to the outliers in the data. lets cap upper and lower bounds so that we can interpret our box plots better."
   ]
  },
  {
   "cell_type": "code",
   "execution_count": 86,
   "metadata": {
    "collapsed": true
   },
   "outputs": [],
   "source": [
    "# Finding IQR:\n",
    "q3 = disturbances[\"demand_loss_(MW)\"].quantile(0.75)\n",
    "q1 = disturbances[\"demand_loss_(MW)\"].quantile(0.25)\n",
    "iqr = q3 - q1 \n",
    "\n",
    "# Get observations that are greater than 1.5 * iqr:\n",
    "upper_bound = q3 + (1.5 * iqr)\n",
    "lower_bound = q1 - (1.5 * iqr)\n",
    "\n",
    "disturbances[\"demand_loss_(MW)_clipped\"] = np.clip(disturbances[\"demand_loss_(MW)\"], lower_bound, upper_bound)"
   ]
  },
  {
   "cell_type": "code",
   "execution_count": 87,
   "metadata": {},
   "outputs": [
    {
     "data": {
      "image/png": "[encoded data removed]",
      "text/plain": [
       "<Figure size 1080x288 with 1 Axes>"
      ]
     },
     "metadata": {},
     "output_type": "display_data"
    }
   ],
   "source": [
    "plt.figure(figsize=(15, 4))  #NOTE: Figsize needs to be executed before the boxplot method of else it will not apply\n",
    "sns.boxplot(\n",
    "    data=disturbances[disturbances['NERC_region'].isin([\"WECC\", \"RFC\", \"SERC\", \"NPCC\", \"TRE\", \"MRO\"])],\n",
    "    x='NERC_region',\n",
    "    y='demand_loss_(MW)_clipped' #Use the clipped data to get rid of outliers\n",
    ")\n",
    "\n",
    "plt.title(\"Power outage demand loss per NERC Region\")\n",
    "plt.xlabel(\"NERC region\")\n",
    "plt.ylabel(\"Demand loss (MW)\")\n",
    "plt.show()"
   ]
  },
  {
   "cell_type": "code",
   "execution_count": 88,
   "metadata": {},
   "outputs": [
    {
     "data": {
      "text/html": [
       "<div>\n",
       "<style scoped>\n",
       "    .dataframe tbody tr th:only-of-type {\n",
       "        vertical-align: middle;\n",
       "    }\n",
       "\n",
       "    .dataframe tbody tr th {\n",
       "        vertical-align: top;\n",
       "    }\n",
       "\n",
       "    .dataframe thead th {\n",
       "        text-align: right;\n",
       "    }\n",
       "</style>\n",
       "<table border=\"1\" class=\"dataframe\">\n",
       "  <thead>\n",
       "    <tr style=\"text-align: right;\">\n",
       "      <th></th>\n",
       "      <th>Unnamed: 0</th>\n",
       "      <th>demand_loss_(MW)</th>\n",
       "      <th>number_of_customers_affected</th>\n",
       "      <th>outage_duration_hours</th>\n",
       "      <th>demand_loss_(MW)_clipped</th>\n",
       "      <th>outage_duration_hours_clipped</th>\n",
       "    </tr>\n",
       "    <tr>\n",
       "      <th>NERC_region</th>\n",
       "      <th></th>\n",
       "      <th></th>\n",
       "      <th></th>\n",
       "      <th></th>\n",
       "      <th></th>\n",
       "      <th></th>\n",
       "    </tr>\n",
       "  </thead>\n",
       "  <tbody>\n",
       "    <tr>\n",
       "      <th>MRO</th>\n",
       "      <td>407960</td>\n",
       "      <td>24598.0</td>\n",
       "      <td>6334855</td>\n",
       "      <td>5.955396e+05</td>\n",
       "      <td>6566.0</td>\n",
       "      <td>4623.041667</td>\n",
       "    </tr>\n",
       "    <tr>\n",
       "      <th>NPCC</th>\n",
       "      <td>600393</td>\n",
       "      <td>82314.0</td>\n",
       "      <td>24035044</td>\n",
       "      <td>4.855448e+06</td>\n",
       "      <td>9646.0</td>\n",
       "      <td>12620.429167</td>\n",
       "    </tr>\n",
       "    <tr>\n",
       "      <th>RFC</th>\n",
       "      <td>1109143</td>\n",
       "      <td>87274.0</td>\n",
       "      <td>70437505</td>\n",
       "      <td>1.082416e+07</td>\n",
       "      <td>25799.0</td>\n",
       "      <td>32485.295833</td>\n",
       "    </tr>\n",
       "    <tr>\n",
       "      <th>SERC</th>\n",
       "      <td>1250922</td>\n",
       "      <td>358927.0</td>\n",
       "      <td>47472453</td>\n",
       "      <td>5.143376e+06</td>\n",
       "      <td>44684.0</td>\n",
       "      <td>18789.712500</td>\n",
       "    </tr>\n",
       "    <tr>\n",
       "      <th>TRE</th>\n",
       "      <td>788840</td>\n",
       "      <td>52633.0</td>\n",
       "      <td>30890095</td>\n",
       "      <td>1.809845e+06</td>\n",
       "      <td>9972.0</td>\n",
       "      <td>9666.212500</td>\n",
       "    </tr>\n",
       "    <tr>\n",
       "      <th>WECC</th>\n",
       "      <td>1917163</td>\n",
       "      <td>321271.0</td>\n",
       "      <td>58510906</td>\n",
       "      <td>9.068390e+06</td>\n",
       "      <td>56628.0</td>\n",
       "      <td>22441.737500</td>\n",
       "    </tr>\n",
       "  </tbody>\n",
       "</table>\n",
       "</div>"
      ],
      "text/plain": [
       "             Unnamed: 0  demand_loss_(MW)  number_of_customers_affected  \\\n",
       "NERC_region                                                               \n",
       "MRO              407960           24598.0                       6334855   \n",
       "NPCC             600393           82314.0                      24035044   \n",
       "RFC             1109143           87274.0                      70437505   \n",
       "SERC            1250922          358927.0                      47472453   \n",
       "TRE              788840           52633.0                      30890095   \n",
       "WECC            1917163          321271.0                      58510906   \n",
       "\n",
       "             outage_duration_hours  demand_loss_(MW)_clipped  \\\n",
       "NERC_region                                                    \n",
       "MRO                   5.955396e+05                    6566.0   \n",
       "NPCC                  4.855448e+06                    9646.0   \n",
       "RFC                   1.082416e+07                   25799.0   \n",
       "SERC                  5.143376e+06                   44684.0   \n",
       "TRE                   1.809845e+06                    9972.0   \n",
       "WECC                  9.068390e+06                   56628.0   \n",
       "\n",
       "             outage_duration_hours_clipped  \n",
       "NERC_region                                 \n",
       "MRO                            4623.041667  \n",
       "NPCC                          12620.429167  \n",
       "RFC                           32485.295833  \n",
       "SERC                          18789.712500  \n",
       "TRE                            9666.212500  \n",
       "WECC                          22441.737500  "
      ]
     },
     "execution_count": 88,
     "metadata": {},
     "output_type": "execute_result"
    }
   ],
   "source": [
    "# Lets have a closer look at the 6 regions with the most logged disturbances. \n",
    "\n",
    "disturbances[disturbances['NERC_region'].isin([\"WECC\", \"RFC\", \"SERC\", \"NPCC\", \"TRE\", \"MRO\"])].groupby([\"NERC_region\"]).sum()"
   ]
  },
  {
   "cell_type": "markdown",
   "metadata": {},
   "source": [
    "Interesting, the median demand loss for these regions is zero. This does not seem right and means we need to have a closer look at the data. \n",
    "- Is demand loss being logged properly? \n",
    "- Do we have any negative values that could be skewing the data? \n",
    "\n",
    "More analysis needs to take place so that we can answer these questions"
   ]
  },
  {
   "cell_type": "markdown",
   "metadata": {},
   "source": [
    "### Are there any major outliers in terms of demand loss? What are the features of these outliers?"
   ]
  },
  {
   "cell_type": "code",
   "execution_count": 89,
   "metadata": {},
   "outputs": [
    {
     "data": {
      "image/png": "[encoded data removed]",
      "text/plain": [
       "<Figure size 1080x288 with 1 Axes>"
      ]
     },
     "metadata": {},
     "output_type": "display_data"
    }
   ],
   "source": [
    "plt.figure(figsize=(15, 4))\n",
    "sns.lineplot(data=disturbances, x='datetime_event_began', y=\"demand_loss_(MW)\")\n",
    "\n",
    "plt.title(\"Demand loss (MW) for outages between 2002 - 2023\")\n",
    "plt.xlabel(\"Date of outage\")\n",
    "plt.ylabel(\"Demand loss (MW)\")\n",
    "plt.show()"
   ]
  },
  {
   "cell_type": "code",
   "execution_count": 91,
   "metadata": {},
   "outputs": [
    {
     "data": {
      "text/plain": [
       "2244    133200.0\n",
       "1785     41788.0\n",
       "2614     33480.0\n",
       "2062     31500.0\n",
       "52       22934.0\n",
       "142      22700.0\n",
       "47       18500.0\n",
       "2053     14998.0\n",
       "1484     14435.0\n",
       "3279     14000.0\n",
       "1322     13850.0\n",
       "55       11202.0\n",
       "48       11000.0\n",
       "42       11000.0\n",
       "249      10000.0\n",
       "1206      9896.0\n",
       "2065      9760.0\n",
       "1566      9750.0\n",
       "1724      9300.0\n",
       "1889      9232.0\n",
       "3000      9000.0\n",
       "3002      9000.0\n",
       "975       8881.0\n",
       "3371      8800.0\n",
       "3374      8600.0\n",
       "3378      8250.0\n",
       "2708      8180.0\n",
       "535       8087.0\n",
       "412       8000.0\n",
       "413       8000.0\n",
       "3047      8000.0\n",
       "2675      7800.0\n",
       "2681      7500.0\n",
       "2858      7214.0\n",
       "2847      7214.0\n",
       "50        7000.0\n",
       "1044      7000.0\n",
       "59        6512.0\n",
       "2528      6062.0\n",
       "146       6000.0\n",
       "3559      5800.0\n",
       "1910      5600.0\n",
       "950       5299.0\n",
       "229       5120.0\n",
       "1190      5000.0\n",
       "2854      4966.0\n",
       "1488      4853.0\n",
       "3459      4615.0\n",
       "1492      4545.0\n",
       "54        4500.0\n",
       "Name: demand_loss_(MW), dtype: float64"
      ]
     },
     "execution_count": 91,
     "metadata": {},
     "output_type": "execute_result"
    }
   ],
   "source": [
    "demand_loss_sorted = disturbances['demand_loss_(MW)'].sort_values(ascending=False)\n",
    "demand_loss_sorted.head(50)"
   ]
  },
  {
   "cell_type": "code",
   "execution_count": null,
   "metadata": {},
   "outputs": [],
   "source": [
    "# By sorting the data by demand loss we could get a rough idea about how we want to slice the data to view the events \n",
    "# that are responsible for the most demand loss.\n",
    "\n",
    "disturbances[disturbances[\"demand_loss_(MW)\"] > 10000]"
   ]
  },
  {
   "cell_type": "markdown",
   "metadata": {},
   "source": [
    "Severe weather seems to be the leading cause of the most disruptive power outages. over 50% of the top 14 outage events (ranked by demand loss) are caused by severe weather. More analysis will need to take place to understand what types of sever weather are most impactful to the energy grid. "
   ]
  },
  {
   "cell_type": "code",
   "execution_count": null,
   "metadata": {
    "collapsed": true
   },
   "outputs": [],
   "source": []
  },
  {
   "cell_type": "code",
   "execution_count": null,
   "metadata": {
    "collapsed": true
   },
   "outputs": [],
   "source": []
  },
  {
   "cell_type": "code",
   "execution_count": null,
   "metadata": {
    "collapsed": true
   },
   "outputs": [],
   "source": []
  },
  {
   "cell_type": "code",
   "execution_count": null,
   "metadata": {
    "collapsed": true
   },
   "outputs": [],
   "source": []
  },
  {
   "cell_type": "code",
   "execution_count": null,
   "metadata": {
    "collapsed": true
   },
   "outputs": [],
   "source": []
  },
  {
   "cell_type": "markdown",
   "metadata": {},
   "source": [
    "### More Plots - Work in progress"
   ]
  },
  {
   "cell_type": "code",
   "execution_count": 65,
   "metadata": {
    "scrolled": true
   },
   "outputs": [
    {
     "data": {
      "image/png": "[encoded data removed]",
      "text/plain": [
       "<Figure size 432x288 with 1 Axes>"
      ]
     },
     "metadata": {},
     "output_type": "display_data"
    }
   ],
   "source": [
    "data_subsection = disturbances[disturbances[\"outage_duration_hours\"] >= 0]\n",
    "sns.lineplot(data=data_subsection, x=\"datetime_event_began\", y=\"outage_duration_hours\")\n",
    "plt.show()"
   ]
  },
  {
   "cell_type": "code",
   "execution_count": 69,
   "metadata": {
    "scrolled": true
   },
   "outputs": [
    {
     "data": {
      "image/png": "[encoded data removed]",
      "text/plain": [
       "<Figure size 432x288 with 1 Axes>"
      ]
     },
     "metadata": {},
     "output_type": "display_data"
    }
   ],
   "source": [
    "sns.histplot(data=disturbances[disturbances[\"outage_duration_hours\"] >= 0], x=\"outage_duration_hours\")\n",
    "\n",
    "plt.xlim(0, 100) #We want to focus on this data and not on outliers\n",
    "plt.show()"
   ]
  },
  {
   "cell_type": "code",
   "execution_count": 73,
   "metadata": {
    "scrolled": false
   },
   "outputs": [
    {
     "data": {
      "image/png": "[encoded data removed]",
      "text/plain": [
       "<Figure size 1080x288 with 1 Axes>"
      ]
     },
     "metadata": {},
     "output_type": "display_data"
    }
   ],
   "source": [
    "#Lets try a stripplot so that we can visually see how many outages we have for each of the top 6 outage regions\n",
    "plt.figure(figsize=(15, 4))\n",
    "sns.stripplot(\n",
    "    data=disturbances[disturbances['NERC_region'].isin([\"WECC\", \"RFC\", \"SERC\", \"NPCC\", \"TRE\", \"MRO\"])],\n",
    "    x='NERC_region',\n",
    "    y='demand_loss_(MW)_clipped', \n",
    "    size= 3, \n",
    "    jitter=0.35)\n",
    "plt.show()"
   ]
  },
  {
   "cell_type": "code",
   "execution_count": 80,
   "metadata": {
    "collapsed": true
   },
   "outputs": [],
   "source": [
    "# Finding IQR:\n",
    "q3 = disturbances[\"outage_duration_hours\"].quantile(0.75)\n",
    "q1 = disturbances[\"outage_duration_hours\"].quantile(0.25)\n",
    "iqr = q3 - q1 \n",
    "\n",
    "# Get observations that are greater than 1.5 * iqr:\n",
    "upper_bound = q3 + (1.5 * iqr)\n",
    "lower_bound = q1 - (1.5 * iqr)\n",
    "\n",
    "disturbances[\"outage_duration_hours_clipped\"] = np.clip(disturbances[\"outage_duration_hours\"], 1, upper_bound)"
   ]
  },
  {
   "cell_type": "code",
   "execution_count": 84,
   "metadata": {},
   "outputs": [
    {
     "data": {
      "image/png": "[encoded data removed]",
      "text/plain": [
       "<Figure size 1080x288 with 1 Axes>"
      ]
     },
     "metadata": {},
     "output_type": "display_data"
    }
   ],
   "source": [
    "plt.figure(figsize=(15, 4))  #NOTE: Figsize needs to be executed before the boxplot method of else it will not apply\n",
    "sns.boxplot(\n",
    "    data=disturbances[disturbances['NERC_region'].isin([\"WECC\", \"RFC\", \"SERC\", \"NPCC\", \"TRE\", \"MRO\"])],\n",
    "    x='NERC_region',\n",
    "    y='outage_duration_hours_clipped'\n",
    ")\n",
    "\n",
    "plt.title(\"Outage duration for regions with most disturbance events 2002-2023\")\n",
    "plt.xlabel(\"NERC Region\")\n",
    "plt.ylabel(\"Outage duration (hours)\")\n",
    "plt.show()"
   ]
  },
  {
   "cell_type": "code",
   "execution_count": 103,
   "metadata": {
    "collapsed": true
   },
   "outputs": [
    {
     "data": {
      "text/html": [
       "<div>\n",
       "<style scoped>\n",
       "    .dataframe tbody tr th:only-of-type {\n",
       "        vertical-align: middle;\n",
       "    }\n",
       "\n",
       "    .dataframe tbody tr th {\n",
       "        vertical-align: top;\n",
       "    }\n",
       "\n",
       "    .dataframe thead th {\n",
       "        text-align: right;\n",
       "    }\n",
       "</style>\n",
       "<table border=\"1\" class=\"dataframe\">\n",
       "  <thead>\n",
       "    <tr style=\"text-align: right;\">\n",
       "      <th>year</th>\n",
       "      <th>2002</th>\n",
       "      <th>2003</th>\n",
       "      <th>2004</th>\n",
       "      <th>2005</th>\n",
       "      <th>2006</th>\n",
       "      <th>2007</th>\n",
       "      <th>2008</th>\n",
       "      <th>2009</th>\n",
       "      <th>2010</th>\n",
       "      <th>2011</th>\n",
       "      <th>...</th>\n",
       "      <th>2014</th>\n",
       "      <th>2015</th>\n",
       "      <th>2016</th>\n",
       "      <th>2017</th>\n",
       "      <th>2018</th>\n",
       "      <th>2019</th>\n",
       "      <th>2020</th>\n",
       "      <th>2021</th>\n",
       "      <th>2022</th>\n",
       "      <th>2023</th>\n",
       "    </tr>\n",
       "    <tr>\n",
       "      <th>NERC_region</th>\n",
       "      <th></th>\n",
       "      <th></th>\n",
       "      <th></th>\n",
       "      <th></th>\n",
       "      <th></th>\n",
       "      <th></th>\n",
       "      <th></th>\n",
       "      <th></th>\n",
       "      <th></th>\n",
       "      <th></th>\n",
       "      <th></th>\n",
       "      <th></th>\n",
       "      <th></th>\n",
       "      <th></th>\n",
       "      <th></th>\n",
       "      <th></th>\n",
       "      <th></th>\n",
       "      <th></th>\n",
       "      <th></th>\n",
       "      <th></th>\n",
       "      <th></th>\n",
       "    </tr>\n",
       "  </thead>\n",
       "  <tbody>\n",
       "    <tr>\n",
       "      <th>ECAR</th>\n",
       "      <td>1.0</td>\n",
       "      <td>11.0</td>\n",
       "      <td>11.0</td>\n",
       "      <td>12.0</td>\n",
       "      <td>NaN</td>\n",
       "      <td>NaN</td>\n",
       "      <td>NaN</td>\n",
       "      <td>NaN</td>\n",
       "      <td>NaN</td>\n",
       "      <td>NaN</td>\n",
       "      <td>...</td>\n",
       "      <td>NaN</td>\n",
       "      <td>NaN</td>\n",
       "      <td>NaN</td>\n",
       "      <td>NaN</td>\n",
       "      <td>NaN</td>\n",
       "      <td>NaN</td>\n",
       "      <td>NaN</td>\n",
       "      <td>NaN</td>\n",
       "      <td>NaN</td>\n",
       "      <td>NaN</td>\n",
       "    </tr>\n",
       "    <tr>\n",
       "      <th>ERCOT</th>\n",
       "      <td>NaN</td>\n",
       "      <td>3.0</td>\n",
       "      <td>5.0</td>\n",
       "      <td>4.0</td>\n",
       "      <td>8.0</td>\n",
       "      <td>3.0</td>\n",
       "      <td>NaN</td>\n",
       "      <td>NaN</td>\n",
       "      <td>NaN</td>\n",
       "      <td>NaN</td>\n",
       "      <td>...</td>\n",
       "      <td>3.0</td>\n",
       "      <td>NaN</td>\n",
       "      <td>NaN</td>\n",
       "      <td>NaN</td>\n",
       "      <td>NaN</td>\n",
       "      <td>NaN</td>\n",
       "      <td>NaN</td>\n",
       "      <td>NaN</td>\n",
       "      <td>NaN</td>\n",
       "      <td>NaN</td>\n",
       "    </tr>\n",
       "    <tr>\n",
       "      <th>FRCC</th>\n",
       "      <td>NaN</td>\n",
       "      <td>1.0</td>\n",
       "      <td>19.0</td>\n",
       "      <td>8.0</td>\n",
       "      <td>NaN</td>\n",
       "      <td>NaN</td>\n",
       "      <td>8.0</td>\n",
       "      <td>1.0</td>\n",
       "      <td>NaN</td>\n",
       "      <td>3.0</td>\n",
       "      <td>...</td>\n",
       "      <td>NaN</td>\n",
       "      <td>NaN</td>\n",
       "      <td>5.0</td>\n",
       "      <td>3.0</td>\n",
       "      <td>10.0</td>\n",
       "      <td>1.0</td>\n",
       "      <td>7.0</td>\n",
       "      <td>NaN</td>\n",
       "      <td>NaN</td>\n",
       "      <td>NaN</td>\n",
       "    </tr>\n",
       "    <tr>\n",
       "      <th>FRCC/SERC</th>\n",
       "      <td>NaN</td>\n",
       "      <td>NaN</td>\n",
       "      <td>NaN</td>\n",
       "      <td>NaN</td>\n",
       "      <td>NaN</td>\n",
       "      <td>NaN</td>\n",
       "      <td>NaN</td>\n",
       "      <td>NaN</td>\n",
       "      <td>1.0</td>\n",
       "      <td>NaN</td>\n",
       "      <td>...</td>\n",
       "      <td>NaN</td>\n",
       "      <td>NaN</td>\n",
       "      <td>NaN</td>\n",
       "      <td>NaN</td>\n",
       "      <td>NaN</td>\n",
       "      <td>NaN</td>\n",
       "      <td>NaN</td>\n",
       "      <td>NaN</td>\n",
       "      <td>NaN</td>\n",
       "      <td>NaN</td>\n",
       "    </tr>\n",
       "    <tr>\n",
       "      <th>HECO</th>\n",
       "      <td>NaN</td>\n",
       "      <td>NaN</td>\n",
       "      <td>NaN</td>\n",
       "      <td>NaN</td>\n",
       "      <td>2.0</td>\n",
       "      <td>NaN</td>\n",
       "      <td>NaN</td>\n",
       "      <td>NaN</td>\n",
       "      <td>NaN</td>\n",
       "      <td>NaN</td>\n",
       "      <td>...</td>\n",
       "      <td>NaN</td>\n",
       "      <td>NaN</td>\n",
       "      <td>NaN</td>\n",
       "      <td>NaN</td>\n",
       "      <td>NaN</td>\n",
       "      <td>NaN</td>\n",
       "      <td>NaN</td>\n",
       "      <td>NaN</td>\n",
       "      <td>NaN</td>\n",
       "      <td>NaN</td>\n",
       "    </tr>\n",
       "    <tr>\n",
       "      <th>MAAC</th>\n",
       "      <td>2.0</td>\n",
       "      <td>11.0</td>\n",
       "      <td>5.0</td>\n",
       "      <td>6.0</td>\n",
       "      <td>NaN</td>\n",
       "      <td>NaN</td>\n",
       "      <td>NaN</td>\n",
       "      <td>NaN</td>\n",
       "      <td>NaN</td>\n",
       "      <td>NaN</td>\n",
       "      <td>...</td>\n",
       "      <td>NaN</td>\n",
       "      <td>NaN</td>\n",
       "      <td>NaN</td>\n",
       "      <td>NaN</td>\n",
       "      <td>NaN</td>\n",
       "      <td>NaN</td>\n",
       "      <td>NaN</td>\n",
       "      <td>NaN</td>\n",
       "      <td>NaN</td>\n",
       "      <td>NaN</td>\n",
       "    </tr>\n",
       "    <tr>\n",
       "      <th>MAIN</th>\n",
       "      <td>1.0</td>\n",
       "      <td>10.0</td>\n",
       "      <td>2.0</td>\n",
       "      <td>2.0</td>\n",
       "      <td>NaN</td>\n",
       "      <td>NaN</td>\n",
       "      <td>NaN</td>\n",
       "      <td>NaN</td>\n",
       "      <td>NaN</td>\n",
       "      <td>NaN</td>\n",
       "      <td>...</td>\n",
       "      <td>NaN</td>\n",
       "      <td>NaN</td>\n",
       "      <td>NaN</td>\n",
       "      <td>NaN</td>\n",
       "      <td>NaN</td>\n",
       "      <td>NaN</td>\n",
       "      <td>NaN</td>\n",
       "      <td>NaN</td>\n",
       "      <td>NaN</td>\n",
       "      <td>NaN</td>\n",
       "    </tr>\n",
       "    <tr>\n",
       "      <th>MAPP</th>\n",
       "      <td>NaN</td>\n",
       "      <td>NaN</td>\n",
       "      <td>1.0</td>\n",
       "      <td>NaN</td>\n",
       "      <td>NaN</td>\n",
       "      <td>NaN</td>\n",
       "      <td>NaN</td>\n",
       "      <td>NaN</td>\n",
       "      <td>NaN</td>\n",
       "      <td>NaN</td>\n",
       "      <td>...</td>\n",
       "      <td>NaN</td>\n",
       "      <td>NaN</td>\n",
       "      <td>NaN</td>\n",
       "      <td>NaN</td>\n",
       "      <td>NaN</td>\n",
       "      <td>NaN</td>\n",
       "      <td>NaN</td>\n",
       "      <td>NaN</td>\n",
       "      <td>NaN</td>\n",
       "      <td>NaN</td>\n",
       "    </tr>\n",
       "    <tr>\n",
       "      <th>MRO</th>\n",
       "      <td>NaN</td>\n",
       "      <td>NaN</td>\n",
       "      <td>NaN</td>\n",
       "      <td>2.0</td>\n",
       "      <td>6.0</td>\n",
       "      <td>6.0</td>\n",
       "      <td>3.0</td>\n",
       "      <td>1.0</td>\n",
       "      <td>6.0</td>\n",
       "      <td>4.0</td>\n",
       "      <td>...</td>\n",
       "      <td>22.0</td>\n",
       "      <td>2.0</td>\n",
       "      <td>3.0</td>\n",
       "      <td>4.0</td>\n",
       "      <td>3.0</td>\n",
       "      <td>21.0</td>\n",
       "      <td>25.0</td>\n",
       "      <td>39.0</td>\n",
       "      <td>13.0</td>\n",
       "      <td>13.0</td>\n",
       "    </tr>\n",
       "    <tr>\n",
       "      <th>MRO/RF</th>\n",
       "      <td>NaN</td>\n",
       "      <td>NaN</td>\n",
       "      <td>NaN</td>\n",
       "      <td>NaN</td>\n",
       "      <td>NaN</td>\n",
       "      <td>NaN</td>\n",
       "      <td>NaN</td>\n",
       "      <td>NaN</td>\n",
       "      <td>NaN</td>\n",
       "      <td>NaN</td>\n",
       "      <td>...</td>\n",
       "      <td>NaN</td>\n",
       "      <td>NaN</td>\n",
       "      <td>NaN</td>\n",
       "      <td>NaN</td>\n",
       "      <td>NaN</td>\n",
       "      <td>NaN</td>\n",
       "      <td>NaN</td>\n",
       "      <td>3.0</td>\n",
       "      <td>1.0</td>\n",
       "      <td>2.0</td>\n",
       "    </tr>\n",
       "    <tr>\n",
       "      <th>NPCC</th>\n",
       "      <td>3.0</td>\n",
       "      <td>7.0</td>\n",
       "      <td>7.0</td>\n",
       "      <td>1.0</td>\n",
       "      <td>8.0</td>\n",
       "      <td>10.0</td>\n",
       "      <td>12.0</td>\n",
       "      <td>3.0</td>\n",
       "      <td>10.0</td>\n",
       "      <td>43.0</td>\n",
       "      <td>...</td>\n",
       "      <td>15.0</td>\n",
       "      <td>7.0</td>\n",
       "      <td>14.0</td>\n",
       "      <td>6.0</td>\n",
       "      <td>23.0</td>\n",
       "      <td>27.0</td>\n",
       "      <td>31.0</td>\n",
       "      <td>23.0</td>\n",
       "      <td>35.0</td>\n",
       "      <td>7.0</td>\n",
       "    </tr>\n",
       "    <tr>\n",
       "      <th>NPCC/RFC</th>\n",
       "      <td>NaN</td>\n",
       "      <td>NaN</td>\n",
       "      <td>NaN</td>\n",
       "      <td>NaN</td>\n",
       "      <td>NaN</td>\n",
       "      <td>NaN</td>\n",
       "      <td>NaN</td>\n",
       "      <td>NaN</td>\n",
       "      <td>NaN</td>\n",
       "      <td>1.0</td>\n",
       "      <td>...</td>\n",
       "      <td>NaN</td>\n",
       "      <td>NaN</td>\n",
       "      <td>NaN</td>\n",
       "      <td>NaN</td>\n",
       "      <td>NaN</td>\n",
       "      <td>NaN</td>\n",
       "      <td>NaN</td>\n",
       "      <td>NaN</td>\n",
       "      <td>NaN</td>\n",
       "      <td>NaN</td>\n",
       "    </tr>\n",
       "    <tr>\n",
       "      <th>Other</th>\n",
       "      <td>NaN</td>\n",
       "      <td>NaN</td>\n",
       "      <td>NaN</td>\n",
       "      <td>1.0</td>\n",
       "      <td>1.0</td>\n",
       "      <td>NaN</td>\n",
       "      <td>2.0</td>\n",
       "      <td>1.0</td>\n",
       "      <td>NaN</td>\n",
       "      <td>NaN</td>\n",
       "      <td>...</td>\n",
       "      <td>NaN</td>\n",
       "      <td>NaN</td>\n",
       "      <td>NaN</td>\n",
       "      <td>NaN</td>\n",
       "      <td>NaN</td>\n",
       "      <td>NaN</td>\n",
       "      <td>NaN</td>\n",
       "      <td>NaN</td>\n",
       "      <td>NaN</td>\n",
       "      <td>NaN</td>\n",
       "    </tr>\n",
       "    <tr>\n",
       "      <th>PR</th>\n",
       "      <td>NaN</td>\n",
       "      <td>NaN</td>\n",
       "      <td>4.0</td>\n",
       "      <td>18.0</td>\n",
       "      <td>7.0</td>\n",
       "      <td>3.0</td>\n",
       "      <td>5.0</td>\n",
       "      <td>NaN</td>\n",
       "      <td>NaN</td>\n",
       "      <td>NaN</td>\n",
       "      <td>...</td>\n",
       "      <td>NaN</td>\n",
       "      <td>NaN</td>\n",
       "      <td>8.0</td>\n",
       "      <td>NaN</td>\n",
       "      <td>NaN</td>\n",
       "      <td>NaN</td>\n",
       "      <td>NaN</td>\n",
       "      <td>NaN</td>\n",
       "      <td>NaN</td>\n",
       "      <td>NaN</td>\n",
       "    </tr>\n",
       "    <tr>\n",
       "      <th>RFC</th>\n",
       "      <td>NaN</td>\n",
       "      <td>NaN</td>\n",
       "      <td>NaN</td>\n",
       "      <td>NaN</td>\n",
       "      <td>27.0</td>\n",
       "      <td>18.0</td>\n",
       "      <td>50.0</td>\n",
       "      <td>33.0</td>\n",
       "      <td>44.0</td>\n",
       "      <td>94.0</td>\n",
       "      <td>...</td>\n",
       "      <td>57.0</td>\n",
       "      <td>18.0</td>\n",
       "      <td>14.0</td>\n",
       "      <td>10.0</td>\n",
       "      <td>33.0</td>\n",
       "      <td>42.0</td>\n",
       "      <td>48.0</td>\n",
       "      <td>40.0</td>\n",
       "      <td>40.0</td>\n",
       "      <td>17.0</td>\n",
       "    </tr>\n",
       "    <tr>\n",
       "      <th>SERC</th>\n",
       "      <td>3.0</td>\n",
       "      <td>8.0</td>\n",
       "      <td>19.0</td>\n",
       "      <td>12.0</td>\n",
       "      <td>9.0</td>\n",
       "      <td>10.0</td>\n",
       "      <td>30.0</td>\n",
       "      <td>25.0</td>\n",
       "      <td>17.0</td>\n",
       "      <td>46.0</td>\n",
       "      <td>...</td>\n",
       "      <td>37.0</td>\n",
       "      <td>23.0</td>\n",
       "      <td>16.0</td>\n",
       "      <td>29.0</td>\n",
       "      <td>50.0</td>\n",
       "      <td>33.0</td>\n",
       "      <td>62.0</td>\n",
       "      <td>63.0</td>\n",
       "      <td>73.0</td>\n",
       "      <td>38.0</td>\n",
       "    </tr>\n",
       "    <tr>\n",
       "      <th>SERC/MRO</th>\n",
       "      <td>NaN</td>\n",
       "      <td>NaN</td>\n",
       "      <td>NaN</td>\n",
       "      <td>NaN</td>\n",
       "      <td>NaN</td>\n",
       "      <td>NaN</td>\n",
       "      <td>NaN</td>\n",
       "      <td>NaN</td>\n",
       "      <td>NaN</td>\n",
       "      <td>NaN</td>\n",
       "      <td>...</td>\n",
       "      <td>NaN</td>\n",
       "      <td>NaN</td>\n",
       "      <td>NaN</td>\n",
       "      <td>NaN</td>\n",
       "      <td>NaN</td>\n",
       "      <td>NaN</td>\n",
       "      <td>NaN</td>\n",
       "      <td>7.0</td>\n",
       "      <td>3.0</td>\n",
       "      <td>NaN</td>\n",
       "    </tr>\n",
       "    <tr>\n",
       "      <th>SERC/RF</th>\n",
       "      <td>NaN</td>\n",
       "      <td>NaN</td>\n",
       "      <td>NaN</td>\n",
       "      <td>NaN</td>\n",
       "      <td>NaN</td>\n",
       "      <td>NaN</td>\n",
       "      <td>NaN</td>\n",
       "      <td>NaN</td>\n",
       "      <td>NaN</td>\n",
       "      <td>NaN</td>\n",
       "      <td>...</td>\n",
       "      <td>NaN</td>\n",
       "      <td>NaN</td>\n",
       "      <td>NaN</td>\n",
       "      <td>NaN</td>\n",
       "      <td>NaN</td>\n",
       "      <td>NaN</td>\n",
       "      <td>NaN</td>\n",
       "      <td>4.0</td>\n",
       "      <td>10.0</td>\n",
       "      <td>4.0</td>\n",
       "    </tr>\n",
       "    <tr>\n",
       "      <th>SERC/RFC</th>\n",
       "      <td>NaN</td>\n",
       "      <td>NaN</td>\n",
       "      <td>NaN</td>\n",
       "      <td>NaN</td>\n",
       "      <td>NaN</td>\n",
       "      <td>NaN</td>\n",
       "      <td>NaN</td>\n",
       "      <td>NaN</td>\n",
       "      <td>1.0</td>\n",
       "      <td>NaN</td>\n",
       "      <td>...</td>\n",
       "      <td>NaN</td>\n",
       "      <td>NaN</td>\n",
       "      <td>NaN</td>\n",
       "      <td>NaN</td>\n",
       "      <td>NaN</td>\n",
       "      <td>NaN</td>\n",
       "      <td>NaN</td>\n",
       "      <td>NaN</td>\n",
       "      <td>NaN</td>\n",
       "      <td>NaN</td>\n",
       "    </tr>\n",
       "    <tr>\n",
       "      <th>SERC/SPP/TRE</th>\n",
       "      <td>NaN</td>\n",
       "      <td>NaN</td>\n",
       "      <td>NaN</td>\n",
       "      <td>NaN</td>\n",
       "      <td>NaN</td>\n",
       "      <td>NaN</td>\n",
       "      <td>NaN</td>\n",
       "      <td>NaN</td>\n",
       "      <td>NaN</td>\n",
       "      <td>NaN</td>\n",
       "      <td>...</td>\n",
       "      <td>NaN</td>\n",
       "      <td>NaN</td>\n",
       "      <td>1.0</td>\n",
       "      <td>NaN</td>\n",
       "      <td>NaN</td>\n",
       "      <td>NaN</td>\n",
       "      <td>NaN</td>\n",
       "      <td>NaN</td>\n",
       "      <td>NaN</td>\n",
       "      <td>NaN</td>\n",
       "    </tr>\n",
       "    <tr>\n",
       "      <th>SPP</th>\n",
       "      <td>5.0</td>\n",
       "      <td>1.0</td>\n",
       "      <td>3.0</td>\n",
       "      <td>6.0</td>\n",
       "      <td>NaN</td>\n",
       "      <td>3.0</td>\n",
       "      <td>4.0</td>\n",
       "      <td>3.0</td>\n",
       "      <td>8.0</td>\n",
       "      <td>21.0</td>\n",
       "      <td>...</td>\n",
       "      <td>1.0</td>\n",
       "      <td>11.0</td>\n",
       "      <td>2.0</td>\n",
       "      <td>2.0</td>\n",
       "      <td>NaN</td>\n",
       "      <td>NaN</td>\n",
       "      <td>NaN</td>\n",
       "      <td>NaN</td>\n",
       "      <td>NaN</td>\n",
       "      <td>NaN</td>\n",
       "    </tr>\n",
       "    <tr>\n",
       "      <th>SPPRE</th>\n",
       "      <td>NaN</td>\n",
       "      <td>NaN</td>\n",
       "      <td>NaN</td>\n",
       "      <td>NaN</td>\n",
       "      <td>NaN</td>\n",
       "      <td>NaN</td>\n",
       "      <td>NaN</td>\n",
       "      <td>NaN</td>\n",
       "      <td>NaN</td>\n",
       "      <td>NaN</td>\n",
       "      <td>...</td>\n",
       "      <td>NaN</td>\n",
       "      <td>NaN</td>\n",
       "      <td>NaN</td>\n",
       "      <td>NaN</td>\n",
       "      <td>4.0</td>\n",
       "      <td>19.0</td>\n",
       "      <td>12.0</td>\n",
       "      <td>NaN</td>\n",
       "      <td>NaN</td>\n",
       "      <td>NaN</td>\n",
       "    </tr>\n",
       "    <tr>\n",
       "      <th>TRE</th>\n",
       "      <td>NaN</td>\n",
       "      <td>NaN</td>\n",
       "      <td>NaN</td>\n",
       "      <td>NaN</td>\n",
       "      <td>NaN</td>\n",
       "      <td>NaN</td>\n",
       "      <td>9.0</td>\n",
       "      <td>11.0</td>\n",
       "      <td>5.0</td>\n",
       "      <td>15.0</td>\n",
       "      <td>...</td>\n",
       "      <td>13.0</td>\n",
       "      <td>13.0</td>\n",
       "      <td>13.0</td>\n",
       "      <td>10.0</td>\n",
       "      <td>11.0</td>\n",
       "      <td>33.0</td>\n",
       "      <td>38.0</td>\n",
       "      <td>69.0</td>\n",
       "      <td>46.0</td>\n",
       "      <td>28.0</td>\n",
       "    </tr>\n",
       "    <tr>\n",
       "      <th>TRE/SERC</th>\n",
       "      <td>NaN</td>\n",
       "      <td>NaN</td>\n",
       "      <td>NaN</td>\n",
       "      <td>NaN</td>\n",
       "      <td>NaN</td>\n",
       "      <td>NaN</td>\n",
       "      <td>NaN</td>\n",
       "      <td>NaN</td>\n",
       "      <td>NaN</td>\n",
       "      <td>NaN</td>\n",
       "      <td>...</td>\n",
       "      <td>NaN</td>\n",
       "      <td>NaN</td>\n",
       "      <td>NaN</td>\n",
       "      <td>NaN</td>\n",
       "      <td>NaN</td>\n",
       "      <td>NaN</td>\n",
       "      <td>NaN</td>\n",
       "      <td>NaN</td>\n",
       "      <td>3.0</td>\n",
       "      <td>NaN</td>\n",
       "    </tr>\n",
       "    <tr>\n",
       "      <th>TRE/SERC/WECC</th>\n",
       "      <td>NaN</td>\n",
       "      <td>NaN</td>\n",
       "      <td>NaN</td>\n",
       "      <td>NaN</td>\n",
       "      <td>NaN</td>\n",
       "      <td>NaN</td>\n",
       "      <td>NaN</td>\n",
       "      <td>NaN</td>\n",
       "      <td>NaN</td>\n",
       "      <td>NaN</td>\n",
       "      <td>...</td>\n",
       "      <td>NaN</td>\n",
       "      <td>NaN</td>\n",
       "      <td>NaN</td>\n",
       "      <td>NaN</td>\n",
       "      <td>NaN</td>\n",
       "      <td>NaN</td>\n",
       "      <td>NaN</td>\n",
       "      <td>1.0</td>\n",
       "      <td>NaN</td>\n",
       "      <td>NaN</td>\n",
       "    </tr>\n",
       "    <tr>\n",
       "      <th>TRE/WECC</th>\n",
       "      <td>NaN</td>\n",
       "      <td>NaN</td>\n",
       "      <td>NaN</td>\n",
       "      <td>NaN</td>\n",
       "      <td>NaN</td>\n",
       "      <td>NaN</td>\n",
       "      <td>NaN</td>\n",
       "      <td>NaN</td>\n",
       "      <td>NaN</td>\n",
       "      <td>NaN</td>\n",
       "      <td>...</td>\n",
       "      <td>NaN</td>\n",
       "      <td>NaN</td>\n",
       "      <td>NaN</td>\n",
       "      <td>NaN</td>\n",
       "      <td>NaN</td>\n",
       "      <td>NaN</td>\n",
       "      <td>NaN</td>\n",
       "      <td>NaN</td>\n",
       "      <td>2.0</td>\n",
       "      <td>NaN</td>\n",
       "    </tr>\n",
       "    <tr>\n",
       "      <th>WECC</th>\n",
       "      <td>NaN</td>\n",
       "      <td>9.0</td>\n",
       "      <td>17.0</td>\n",
       "      <td>11.0</td>\n",
       "      <td>23.0</td>\n",
       "      <td>25.0</td>\n",
       "      <td>26.0</td>\n",
       "      <td>19.0</td>\n",
       "      <td>31.0</td>\n",
       "      <td>77.0</td>\n",
       "      <td>...</td>\n",
       "      <td>63.0</td>\n",
       "      <td>49.0</td>\n",
       "      <td>42.0</td>\n",
       "      <td>52.0</td>\n",
       "      <td>50.0</td>\n",
       "      <td>74.0</td>\n",
       "      <td>100.0</td>\n",
       "      <td>86.0</td>\n",
       "      <td>106.0</td>\n",
       "      <td>30.0</td>\n",
       "    </tr>\n",
       "    <tr>\n",
       "      <th>WECC/MRO</th>\n",
       "      <td>NaN</td>\n",
       "      <td>NaN</td>\n",
       "      <td>NaN</td>\n",
       "      <td>NaN</td>\n",
       "      <td>NaN</td>\n",
       "      <td>NaN</td>\n",
       "      <td>NaN</td>\n",
       "      <td>NaN</td>\n",
       "      <td>NaN</td>\n",
       "      <td>NaN</td>\n",
       "      <td>...</td>\n",
       "      <td>NaN</td>\n",
       "      <td>NaN</td>\n",
       "      <td>NaN</td>\n",
       "      <td>NaN</td>\n",
       "      <td>NaN</td>\n",
       "      <td>NaN</td>\n",
       "      <td>NaN</td>\n",
       "      <td>NaN</td>\n",
       "      <td>2.0</td>\n",
       "      <td>1.0</td>\n",
       "    </tr>\n",
       "    <tr>\n",
       "      <th>WSCC</th>\n",
       "      <td>8.0</td>\n",
       "      <td>NaN</td>\n",
       "      <td>NaN</td>\n",
       "      <td>NaN</td>\n",
       "      <td>NaN</td>\n",
       "      <td>NaN</td>\n",
       "      <td>NaN</td>\n",
       "      <td>NaN</td>\n",
       "      <td>NaN</td>\n",
       "      <td>NaN</td>\n",
       "      <td>...</td>\n",
       "      <td>NaN</td>\n",
       "      <td>NaN</td>\n",
       "      <td>NaN</td>\n",
       "      <td>NaN</td>\n",
       "      <td>NaN</td>\n",
       "      <td>NaN</td>\n",
       "      <td>NaN</td>\n",
       "      <td>NaN</td>\n",
       "      <td>NaN</td>\n",
       "      <td>NaN</td>\n",
       "    </tr>\n",
       "  </tbody>\n",
       "</table>\n",
       "<p>29 rows × 22 columns</p>\n",
       "</div>"
      ],
      "text/plain": [
       "year           2002  2003  2004  2005  2006  2007  2008  2009  2010  2011  \\\n",
       "NERC_region                                                                 \n",
       "ECAR            1.0  11.0  11.0  12.0   NaN   NaN   NaN   NaN   NaN   NaN   \n",
       "ERCOT           NaN   3.0   5.0   4.0   8.0   3.0   NaN   NaN   NaN   NaN   \n",
       "FRCC            NaN   1.0  19.0   8.0   NaN   NaN   8.0   1.0   NaN   3.0   \n",
       "FRCC/SERC       NaN   NaN   NaN   NaN   NaN   NaN   NaN   NaN   1.0   NaN   \n",
       "HECO            NaN   NaN   NaN   NaN   2.0   NaN   NaN   NaN   NaN   NaN   \n",
       "MAAC            2.0  11.0   5.0   6.0   NaN   NaN   NaN   NaN   NaN   NaN   \n",
       "MAIN            1.0  10.0   2.0   2.0   NaN   NaN   NaN   NaN   NaN   NaN   \n",
       "MAPP            NaN   NaN   1.0   NaN   NaN   NaN   NaN   NaN   NaN   NaN   \n",
       "MRO             NaN   NaN   NaN   2.0   6.0   6.0   3.0   1.0   6.0   4.0   \n",
       "MRO/RF          NaN   NaN   NaN   NaN   NaN   NaN   NaN   NaN   NaN   NaN   \n",
       "NPCC            3.0   7.0   7.0   1.0   8.0  10.0  12.0   3.0  10.0  43.0   \n",
       "NPCC/RFC        NaN   NaN   NaN   NaN   NaN   NaN   NaN   NaN   NaN   1.0   \n",
       "Other           NaN   NaN   NaN   1.0   1.0   NaN   2.0   1.0   NaN   NaN   \n",
       "PR              NaN   NaN   4.0  18.0   7.0   3.0   5.0   NaN   NaN   NaN   \n",
       "RFC             NaN   NaN   NaN   NaN  27.0  18.0  50.0  33.0  44.0  94.0   \n",
       "SERC            3.0   8.0  19.0  12.0   9.0  10.0  30.0  25.0  17.0  46.0   \n",
       "SERC/MRO        NaN   NaN   NaN   NaN   NaN   NaN   NaN   NaN   NaN   NaN   \n",
       "SERC/RF         NaN   NaN   NaN   NaN   NaN   NaN   NaN   NaN   NaN   NaN   \n",
       "SERC/RFC        NaN   NaN   NaN   NaN   NaN   NaN   NaN   NaN   1.0   NaN   \n",
       "SERC/SPP/TRE    NaN   NaN   NaN   NaN   NaN   NaN   NaN   NaN   NaN   NaN   \n",
       "SPP             5.0   1.0   3.0   6.0   NaN   3.0   4.0   3.0   8.0  21.0   \n",
       "SPPRE           NaN   NaN   NaN   NaN   NaN   NaN   NaN   NaN   NaN   NaN   \n",
       "TRE             NaN   NaN   NaN   NaN   NaN   NaN   9.0  11.0   5.0  15.0   \n",
       "TRE/SERC        NaN   NaN   NaN   NaN   NaN   NaN   NaN   NaN   NaN   NaN   \n",
       "TRE/SERC/WECC   NaN   NaN   NaN   NaN   NaN   NaN   NaN   NaN   NaN   NaN   \n",
       "TRE/WECC        NaN   NaN   NaN   NaN   NaN   NaN   NaN   NaN   NaN   NaN   \n",
       "WECC            NaN   9.0  17.0  11.0  23.0  25.0  26.0  19.0  31.0  77.0   \n",
       "WECC/MRO        NaN   NaN   NaN   NaN   NaN   NaN   NaN   NaN   NaN   NaN   \n",
       "WSCC            8.0   NaN   NaN   NaN   NaN   NaN   NaN   NaN   NaN   NaN   \n",
       "\n",
       "year           ...  2014  2015  2016  2017  2018  2019   2020  2021   2022  \\\n",
       "NERC_region    ...                                                           \n",
       "ECAR           ...   NaN   NaN   NaN   NaN   NaN   NaN    NaN   NaN    NaN   \n",
       "ERCOT          ...   3.0   NaN   NaN   NaN   NaN   NaN    NaN   NaN    NaN   \n",
       "FRCC           ...   NaN   NaN   5.0   3.0  10.0   1.0    7.0   NaN    NaN   \n",
       "FRCC/SERC      ...   NaN   NaN   NaN   NaN   NaN   NaN    NaN   NaN    NaN   \n",
       "HECO           ...   NaN   NaN   NaN   NaN   NaN   NaN    NaN   NaN    NaN   \n",
       "MAAC           ...   NaN   NaN   NaN   NaN   NaN   NaN    NaN   NaN    NaN   \n",
       "MAIN           ...   NaN   NaN   NaN   NaN   NaN   NaN    NaN   NaN    NaN   \n",
       "MAPP           ...   NaN   NaN   NaN   NaN   NaN   NaN    NaN   NaN    NaN   \n",
       "MRO            ...  22.0   2.0   3.0   4.0   3.0  21.0   25.0  39.0   13.0   \n",
       "MRO/RF         ...   NaN   NaN   NaN   NaN   NaN   NaN    NaN   3.0    1.0   \n",
       "NPCC           ...  15.0   7.0  14.0   6.0  23.0  27.0   31.0  23.0   35.0   \n",
       "NPCC/RFC       ...   NaN   NaN   NaN   NaN   NaN   NaN    NaN   NaN    NaN   \n",
       "Other          ...   NaN   NaN   NaN   NaN   NaN   NaN    NaN   NaN    NaN   \n",
       "PR             ...   NaN   NaN   8.0   NaN   NaN   NaN    NaN   NaN    NaN   \n",
       "RFC            ...  57.0  18.0  14.0  10.0  33.0  42.0   48.0  40.0   40.0   \n",
       "SERC           ...  37.0  23.0  16.0  29.0  50.0  33.0   62.0  63.0   73.0   \n",
       "SERC/MRO       ...   NaN   NaN   NaN   NaN   NaN   NaN    NaN   7.0    3.0   \n",
       "SERC/RF        ...   NaN   NaN   NaN   NaN   NaN   NaN    NaN   4.0   10.0   \n",
       "SERC/RFC       ...   NaN   NaN   NaN   NaN   NaN   NaN    NaN   NaN    NaN   \n",
       "SERC/SPP/TRE   ...   NaN   NaN   1.0   NaN   NaN   NaN    NaN   NaN    NaN   \n",
       "SPP            ...   1.0  11.0   2.0   2.0   NaN   NaN    NaN   NaN    NaN   \n",
       "SPPRE          ...   NaN   NaN   NaN   NaN   4.0  19.0   12.0   NaN    NaN   \n",
       "TRE            ...  13.0  13.0  13.0  10.0  11.0  33.0   38.0  69.0   46.0   \n",
       "TRE/SERC       ...   NaN   NaN   NaN   NaN   NaN   NaN    NaN   NaN    3.0   \n",
       "TRE/SERC/WECC  ...   NaN   NaN   NaN   NaN   NaN   NaN    NaN   1.0    NaN   \n",
       "TRE/WECC       ...   NaN   NaN   NaN   NaN   NaN   NaN    NaN   NaN    2.0   \n",
       "WECC           ...  63.0  49.0  42.0  52.0  50.0  74.0  100.0  86.0  106.0   \n",
       "WECC/MRO       ...   NaN   NaN   NaN   NaN   NaN   NaN    NaN   NaN    2.0   \n",
       "WSCC           ...   NaN   NaN   NaN   NaN   NaN   NaN    NaN   NaN    NaN   \n",
       "\n",
       "year           2023  \n",
       "NERC_region          \n",
       "ECAR            NaN  \n",
       "ERCOT           NaN  \n",
       "FRCC            NaN  \n",
       "FRCC/SERC       NaN  \n",
       "HECO            NaN  \n",
       "MAAC            NaN  \n",
       "MAIN            NaN  \n",
       "MAPP            NaN  \n",
       "MRO            13.0  \n",
       "MRO/RF          2.0  \n",
       "NPCC            7.0  \n",
       "NPCC/RFC        NaN  \n",
       "Other           NaN  \n",
       "PR              NaN  \n",
       "RFC            17.0  \n",
       "SERC           38.0  \n",
       "SERC/MRO        NaN  \n",
       "SERC/RF         4.0  \n",
       "SERC/RFC        NaN  \n",
       "SERC/SPP/TRE    NaN  \n",
       "SPP             NaN  \n",
       "SPPRE           NaN  \n",
       "TRE            28.0  \n",
       "TRE/SERC        NaN  \n",
       "TRE/SERC/WECC   NaN  \n",
       "TRE/WECC        NaN  \n",
       "WECC           30.0  \n",
       "WECC/MRO        1.0  \n",
       "WSCC            NaN  \n",
       "\n",
       "[29 rows x 22 columns]"
      ]
     },
     "execution_count": 103,
     "metadata": {},
     "output_type": "execute_result"
    }
   ],
   "source": [
    "def get_year(val):\n",
    "    return val.year\n",
    "\n",
    "disturbances[\"year\"] = disturbances['datetime_event_began'].apply(get_year)\n",
    "\n",
    "by_NERC_region = (disturbances\n",
    "            .groupby(['NERC_region', \"year\"])\n",
    "            .size()\n",
    "            .unstack()\n",
    "           )\n",
    "by_NERC_region"
   ]
  },
  {
   "cell_type": "code",
   "execution_count": 107,
   "metadata": {},
   "outputs": [
    {
     "data": {
      "image/png": "[encoded data removed]",
      "text/plain": [
       "<Figure size 720x720 with 2 Axes>"
      ]
     },
     "metadata": {},
     "output_type": "display_data"
    }
   ],
   "source": [
    "plt.figure(figsize=(10,10))\n",
    "g = sns.heatmap(\n",
    "    by_NERC_region, \n",
    "    square=True, # make cells square\n",
    "    cbar_kws={'fraction' : 0.01}, # shrink colour bar\n",
    "    cmap='OrRd', # use orange/red colour map\n",
    "    linewidth=1 # space between cells\n",
    ")\n",
    "\n",
    "plt.show()"
   ]
  },
  {
   "cell_type": "markdown",
   "metadata": {},
   "source": [
    "## Step 4 Conclusion and next steps"
   ]
  },
  {
   "cell_type": "markdown",
   "metadata": {},
   "source": [
    "I spent a lot of time cleaning this data and the EDA I was able to complete by November 27th is a bit limited. I had a lot of fun working with this messy dataset but also have a lot of questions. I know there is a lot to improve. \n",
    "\n",
    "Some general notes:\n",
    "- I wanted to explote the datetime columns more but the data was so messy and I was very stuck on timezones... I abandoned this so that I could at least submit something on time!\n",
    "\n",
    "\n",
    "Other notes:\n",
    "- NOTE: I have lost some of the merged cell data from the area column of 2002 sheet, to revisit and look at data dictionary for better understanding\n",
    "- NOTE: Have i deleted some important data when cleaning my rows that are not datetime data? to review.\n",
    "- NOTE: when converting the datetime columns to datetime datatypes I set utc=True. This will need to be reviewed.\n",
    "- NOTE: This is where I found the NERC region code translations: https://www.eia.gov/outlooks/aeo/pdf/nerc_map.pdf"
   ]
  }
 ],
 "metadata": {
  "kernelspec": {
   "display_name": "Python 3",
   "language": "python",
   "name": "python3"
  },
  "language_info": {
   "codemirror_mode": {
    "name": "ipython",
    "version": 3
   },
   "file_extension": ".py",
   "mimetype": "text/x-python",
   "name": "python",
   "nbconvert_exporter": "python",
   "pygments_lexer": "ipython3",
   "version": "3.6.1"
  }
 },
 "nbformat": 4,
 "nbformat_minor": 2
}
